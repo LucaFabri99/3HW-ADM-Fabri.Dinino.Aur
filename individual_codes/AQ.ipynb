{
 "cells": [
  {
   "cell_type": "markdown",
   "id": "dc4419ad-47dc-40d3-b3fc-9eabcc6225e9",
   "metadata": {},
   "source": [
    "# Theoretical Question"
   ]
  },
  {
   "cell_type": "code",
   "execution_count": 5,
   "id": "f2185ae5-ceb5-4175-974e-58410ee3dc5b",
   "metadata": {},
   "outputs": [],
   "source": [
    "from functools import reduce\n",
    "import random as rdm"
   ]
  },
  {
   "cell_type": "markdown",
   "id": "214e5b4e-c2db-4e25-908c-543cbbbd20c9",
   "metadata": {},
   "source": [
    "First of all we want to define some useful subroutines to substitute built-ins methods with ones defined from scratch."
   ]
  },
  {
   "cell_type": "code",
   "execution_count": 3,
   "id": "5971aeed-20eb-4a79-a256-2497294675d3",
   "metadata": {},
   "outputs": [],
   "source": [
    "def maxer(arr:list)->int:\n",
    "    M = 0\n",
    "    for i in arr:\n",
    "        if i > M:\n",
    "            M = i\n",
    "    return M\n",
    "\n",
    "def miner(arr:list)->int:\n",
    "    m = arr[0]\n",
    "    for i in arr:\n",
    "        if i < m:\n",
    "            m = i\n",
    "    return m\n",
    "\n",
    "def meaner(arr:list) -> int:\n",
    "    avger = lambda x:x/len(arr)\n",
    "    summer = lambda a,b:a+b\n",
    "    return reduce(summer,map(avger,arr))"
   ]
  },
  {
   "cell_type": "markdown",
   "id": "51a6db3c-2ade-4987-b899-7d73df884ce9",
   "metadata": {},
   "source": [
    "Then we are going to implement three different sorting methods from scratch: Mergesort, Quicksort and Selectionsort. "
   ]
  },
  {
   "cell_type": "markdown",
   "id": "8ce2f7f0-5ecb-45fd-b24f-39bda46950cc",
   "metadata": {},
   "source": [
    "*Mergesort from scratch*"
   ]
  },
  {
   "cell_type": "code",
   "execution_count": 3,
   "id": "cafbfc82-fe48-421e-b4f1-6bc8873f4e72",
   "metadata": {},
   "outputs": [],
   "source": [
    "def mergeSorter(arr: list)->list:\n",
    "    if len(arr) <= 1:                                                  #Basic cases as stop condition for recursion\n",
    "        return arr\n",
    "    else:\n",
    "        n = len(arr)\n",
    "        larr = mergeSorter(list(arr[:n//2]))                           #DIVIDE: recursive calls to divide the arr in two sub-arrays\n",
    "        rarr = mergeSorter(list(arr[n//2:]))\n",
    " \n",
    "        merged = []                                                    #IMPERA: Merge subroutine leveraging 'miner' method previously implemented\n",
    "        concat = larr + rarr\n",
    "        while len(concat) > 0:\n",
    "            elem = miner(concat)\n",
    "            merged.append(elem)\n",
    "            concat.remove(elem)\n",
    "            \n",
    "        return merged     "
   ]
  },
  {
   "cell_type": "markdown",
   "id": "1fa59f47-cc95-43cf-8eb9-5c688b8f4df7",
   "metadata": {},
   "source": [
    "*Quicksort from scratch*"
   ]
  },
  {
   "cell_type": "code",
   "execution_count": 4,
   "id": "6399e983-141d-418b-9800-7ec3dd1b5ee6",
   "metadata": {},
   "outputs": [],
   "source": [
    "def quickSorter(arr:list)->list:\n",
    "    if len(arr) <= 1:\n",
    "        return arr\n",
    "    else:\n",
    "        rand_index = rdm.randrange(0,len(arr))\n",
    "        pivot = arr[rand_index]\n",
    "        larr = [elem for elem in arr if elem < pivot]\n",
    "        rarr = [elem for elem in arr if elem > pivot]\n",
    "        \n",
    "        return (quickSorter(larr) + \n",
    "                [elem for elem in arr if elem == pivot] + \n",
    "                quickSorter(rarr))"
   ]
  },
  {
   "cell_type": "markdown",
   "id": "ad505fc7-f580-47db-a93c-235655ff00e4",
   "metadata": {},
   "source": [
    "*Selectionsort from scratch*"
   ]
  },
  {
   "cell_type": "code",
   "execution_count": 5,
   "id": "f87a4804-e06c-4c67-80c0-a7c63e0b6b03",
   "metadata": {},
   "outputs": [],
   "source": [
    "def selectionSorter(arr:list)->list:\n",
    "    for i in range(0, len(arr)):\n",
    "        min_index = i\n",
    "        for j in range(i+1,len(arr)):\n",
    "            if arr[j] < arr[i]:\n",
    "                min_index = j\n",
    "                if min_index != i:\n",
    "                    temp = arr[i]\n",
    "                    arr[i] = arr[min_index]\n",
    "                    arr[min_index] = temp\n",
    "    return arr"
   ]
  },
  {
   "cell_type": "markdown",
   "id": "298628e4-a2ef-494c-8657-7c7d974bdaa4",
   "metadata": {},
   "source": [
    "These methods works also on sorting list of strings, because Python natively can compares characters and string with respect to their ASCII value. "
   ]
  },
  {
   "cell_type": "markdown",
   "id": "bc1a4709-a0b8-4048-9ec6-65e874d23ac1",
   "metadata": {},
   "source": [
    "Now we can work on the file that contains the dataset."
   ]
  },
  {
   "cell_type": "code",
   "execution_count": 1,
   "id": "79d51864-d8c4-4f1e-af8f-53cbd181b26c",
   "metadata": {},
   "outputs": [],
   "source": [
    "applicants_info = open(r\"C:\\Users\\Leonardo\\ADM_HW3\\ApplicantsInfo.txt\",'r')\n",
    "lines = applicants_info.readlines()"
   ]
  },
  {
   "cell_type": "code",
   "execution_count": 6,
   "id": "264596ff-d8db-43a3-9056-93dc1e8bbae8",
   "metadata": {},
   "outputs": [],
   "source": [
    "n, m = list(map(int,lines[0].strip().split(' ')))\n",
    "data = {}\n",
    "for _ in range(1, n):\n",
    "    name = ' '.join(lines[_].strip().split(' ')[0:2])\n",
    "    scores = list(map(int,lines[_].strip().split(' ')[2:]))\n",
    "    data[name] = round(meaner(scores), 2)"
   ]
  },
  {
   "cell_type": "markdown",
   "id": "934bae3e",
   "metadata": {},
   "source": [
    "This next block is to save our partial result as a .txt file. "
   ]
  },
  {
   "cell_type": "code",
   "execution_count": 24,
   "id": "6a154c27-0b87-4347-b81f-86f3368ccfa1",
   "metadata": {},
   "outputs": [],
   "source": [
    "with open('applicants_mean.txt','w+') as newfile:\n",
    "    for name, score in data.items():\n",
    "        newfile.write('%s:%s\\n' % (name, score))     \n"
   ]
  },
  {
   "cell_type": "code",
   "execution_count": null,
   "id": "7b237a83",
   "metadata": {},
   "outputs": [],
   "source": [
    "applicants_mean = open('applicants_mean.txt',encoding='utf-8')"
   ]
  },
  {
   "cell_type": "code",
   "execution_count": 1,
   "id": "3cfb013b",
   "metadata": {},
   "outputs": [],
   "source": [
    "'''\n",
    "To open the partial output from applicants_mean.text use this script\n",
    "\n",
    "data = {}\n",
    "with open('applicants_mean.txt', 'r') as file:\n",
    "    for line in file.readlines():\n",
    "        applicant = line.split(':')[0]\n",
    "        score = line.split(':')[1]\n",
    "        data[applicant] = float(score)\n",
    "'''"
   ]
  },
  {
   "cell_type": "code",
   "execution_count": null,
   "id": "5c391282",
   "metadata": {},
   "outputs": [],
   "source": []
  }
 ],
 "metadata": {
  "kernelspec": {
   "display_name": "Python 3.10.7 64-bit",
   "language": "python",
   "name": "python3"
  },
  "language_info": {
   "codemirror_mode": {
    "name": "ipython",
    "version": 3
   },
   "file_extension": ".py",
   "mimetype": "text/x-python",
   "name": "python",
   "nbconvert_exporter": "python",
   "pygments_lexer": "ipython3",
   "version": "3.10.7"
  },
  "vscode": {
   "interpreter": {
    "hash": "38cdd751ff1a78921eff5cc54f687db2b577836ff9e523662c7eedaeda872ff5"
   }
  }
 },
 "nbformat": 4,
 "nbformat_minor": 5
}
