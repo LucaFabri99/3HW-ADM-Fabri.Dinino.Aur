{
 "cells": [
  {
   "cell_type": "code",
   "execution_count": 1,
   "id": "4dff634f-8241-4a38-ad49-a3daa42aa70c",
   "metadata": {},
   "outputs": [
    {
     "name": "stderr",
     "output_type": "stream",
     "text": [
      "[nltk_data] Downloading package punkt to /Users/the_redd_/nltk_data...\n",
      "[nltk_data]   Package punkt is already up-to-date!\n",
      "[nltk_data] Downloading package stopwords to\n",
      "[nltk_data]     /Users/the_redd_/nltk_data...\n",
      "[nltk_data]   Package stopwords is already up-to-date!\n",
      "[nltk_data] Downloading package maxent_ne_chunker to\n",
      "[nltk_data]     /Users/the_redd_/nltk_data...\n",
      "[nltk_data]   Package maxent_ne_chunker is already up-to-date!\n",
      "[nltk_data] Downloading package words to /Users/the_redd_/nltk_data...\n",
      "[nltk_data]   Package words is already up-to-date!\n",
      "[nltk_data] Downloading package treebank to\n",
      "[nltk_data]     /Users/the_redd_/nltk_data...\n",
      "[nltk_data]   Package treebank is already up-to-date!\n",
      "[nltk_data] Downloading package maxent_treebank_pos_tagger to\n",
      "[nltk_data]     /Users/the_redd_/nltk_data...\n",
      "[nltk_data]   Package maxent_treebank_pos_tagger is already up-to-\n",
      "[nltk_data]       date!\n",
      "[nltk_data] Downloading package punkt to /Users/the_redd_/nltk_data...\n",
      "[nltk_data]   Package punkt is already up-to-date!\n",
      "[nltk_data] Downloading package averaged_perceptron_tagger to\n",
      "[nltk_data]     /Users/the_redd_/nltk_data...\n",
      "[nltk_data]   Package averaged_perceptron_tagger is already up-to-\n",
      "[nltk_data]       date!\n"
     ]
    },
    {
     "data": {
      "text/plain": [
       "True"
      ]
     },
     "execution_count": 1,
     "metadata": {},
     "output_type": "execute_result"
    }
   ],
   "source": [
    "import pandas as pd\n",
    "import math\n",
    "import matplotlib.pyplot as plt\n",
    "import lxml\n",
    "import numpy as np\n",
    "\n",
    "import os                                                      #Needed to move between OS folders\n",
    "\n",
    "import re\n",
    "from bs4 import BeautifulSoup                                  #Scraper \n",
    "import requests                                                #URL drainer\n",
    "\n",
    "from tqdm import tqdm\n",
    "\n",
    "from datetime import datetime                                  #To be leveraged to define datetime objects  \n",
    "\n",
    "from collections import Counter\n",
    "from functools import reduce\n",
    "\n",
    "import nltk                                                    #Text processing library\n",
    "from nltk.tokenize import word_tokenize\n",
    "from nltk.corpus import stopwords\n",
    "from nltk.stem import PorterStemmer\n",
    "\n",
    "\n",
    "import locationtagger\n",
    "import pandas as pd\n",
    "import plotly.express as px\n",
    "import dash\n",
    "from dash import dcc \n",
    "\n",
    "nltk.download('punkt')                                         #Download command on NLTK library to get specific \n",
    "nltk.download('stopwords')\n",
    "\n",
    "from sklearn.feature_extraction.text import TfidfVectorizer    #Useful already implemented tfidf vectorizer from scikit learn library\n",
    "\n",
    "\n",
    "import heapq                                                   #Library with useful methods to define heap data structures\n",
    "\n",
    "# essential entity models downloads\n",
    "nltk.downloader.download('maxent_ne_chunker')\n",
    "nltk.downloader.download('words')\n",
    "nltk.downloader.download('treebank')\n",
    "nltk.downloader.download('maxent_treebank_pos_tagger')\n",
    "nltk.downloader.download('punkt')\n",
    "nltk.download('averaged_perceptron_tagger')\n",
    "\n",
    "import spacy\n",
    "spacy.load('en_core_web_sm')\n"
   ]
  },
  {
   "cell_type": "code",
   "execution_count": 3,
   "id": "df560b10",
   "metadata": {},
   "outputs": [
    {
     "name": "stdout",
     "output_type": "stream",
     "text": [
      "Collecting findspark\n",
      "  Downloading findspark-2.0.1-py2.py3-none-any.whl (4.4 kB)\n",
      "Installing collected packages: findspark\n",
      "Successfully installed findspark-2.0.1\n",
      "Note: you may need to restart the kernel to use updated packages.\n"
     ]
    }
   ],
   "source": [
    "pip install findspark                                          "
   ]
  },
  {
   "cell_type": "code",
   "execution_count": 4,
   "id": "788bf286",
   "metadata": {},
   "outputs": [
    {
     "name": "stderr",
     "output_type": "stream",
     "text": [
      "The operation couldn’t be completed. Unable to locate a Java Runtime.\n",
      "Please visit http://www.java.com for information on installing Java.\n",
      "\n",
      "/Users/the_redd_/opt/anaconda3/lib/python3.9/site-packages/pyspark/bin/spark-class: line 96: CMD: bad array subscript\n",
      "head: illegal line count -- -1\n"
     ]
    },
    {
     "ename": "RuntimeError",
     "evalue": "Java gateway process exited before sending its port number",
     "output_type": "error",
     "traceback": [
      "\u001b[0;31m---------------------------------------------------------------------------\u001b[0m",
      "\u001b[0;31mRuntimeError\u001b[0m                              Traceback (most recent call last)",
      "\u001b[0;32m/var/folders/f8/5qj1kgpj0jv663dcg8r4dqwr0000gn/T/ipykernel_17583/1384637824.py\u001b[0m in \u001b[0;36m<module>\u001b[0;34m\u001b[0m\n\u001b[1;32m      2\u001b[0m \u001b[0mfindspark\u001b[0m\u001b[0;34m.\u001b[0m\u001b[0minit\u001b[0m\u001b[0;34m(\u001b[0m\u001b[0;34m)\u001b[0m\u001b[0;34m\u001b[0m\u001b[0;34m\u001b[0m\u001b[0m\n\u001b[1;32m      3\u001b[0m \u001b[0;32mimport\u001b[0m \u001b[0mpyspark\u001b[0m\u001b[0;34m\u001b[0m\u001b[0;34m\u001b[0m\u001b[0m\n\u001b[0;32m----> 4\u001b[0;31m \u001b[0msc\u001b[0m \u001b[0;34m=\u001b[0m \u001b[0mpyspark\u001b[0m\u001b[0;34m.\u001b[0m\u001b[0mSparkContext\u001b[0m\u001b[0;34m(\u001b[0m\u001b[0mappName\u001b[0m\u001b[0;34m=\u001b[0m\u001b[0;34m\"myAppName\"\u001b[0m\u001b[0;34m)\u001b[0m                  \u001b[0;31m#Initialize a PySpark setup\u001b[0m\u001b[0;34m\u001b[0m\u001b[0;34m\u001b[0m\u001b[0m\n\u001b[0m",
      "\u001b[0;32m~/opt/anaconda3/lib/python3.9/site-packages/pyspark/context.py\u001b[0m in \u001b[0;36m__init__\u001b[0;34m(self, master, appName, sparkHome, pyFiles, environment, batchSize, serializer, conf, gateway, jsc, profiler_cls, udf_profiler_cls)\u001b[0m\n\u001b[1;32m    193\u001b[0m             )\n\u001b[1;32m    194\u001b[0m \u001b[0;34m\u001b[0m\u001b[0m\n\u001b[0;32m--> 195\u001b[0;31m         \u001b[0mSparkContext\u001b[0m\u001b[0;34m.\u001b[0m\u001b[0m_ensure_initialized\u001b[0m\u001b[0;34m(\u001b[0m\u001b[0mself\u001b[0m\u001b[0;34m,\u001b[0m \u001b[0mgateway\u001b[0m\u001b[0;34m=\u001b[0m\u001b[0mgateway\u001b[0m\u001b[0;34m,\u001b[0m \u001b[0mconf\u001b[0m\u001b[0;34m=\u001b[0m\u001b[0mconf\u001b[0m\u001b[0;34m)\u001b[0m\u001b[0;34m\u001b[0m\u001b[0;34m\u001b[0m\u001b[0m\n\u001b[0m\u001b[1;32m    196\u001b[0m         \u001b[0;32mtry\u001b[0m\u001b[0;34m:\u001b[0m\u001b[0;34m\u001b[0m\u001b[0;34m\u001b[0m\u001b[0m\n\u001b[1;32m    197\u001b[0m             self._do_init(\n",
      "\u001b[0;32m~/opt/anaconda3/lib/python3.9/site-packages/pyspark/context.py\u001b[0m in \u001b[0;36m_ensure_initialized\u001b[0;34m(cls, instance, gateway, conf)\u001b[0m\n\u001b[1;32m    415\u001b[0m         \u001b[0;32mwith\u001b[0m \u001b[0mSparkContext\u001b[0m\u001b[0;34m.\u001b[0m\u001b[0m_lock\u001b[0m\u001b[0;34m:\u001b[0m\u001b[0;34m\u001b[0m\u001b[0;34m\u001b[0m\u001b[0m\n\u001b[1;32m    416\u001b[0m             \u001b[0;32mif\u001b[0m \u001b[0;32mnot\u001b[0m \u001b[0mSparkContext\u001b[0m\u001b[0;34m.\u001b[0m\u001b[0m_gateway\u001b[0m\u001b[0;34m:\u001b[0m\u001b[0;34m\u001b[0m\u001b[0;34m\u001b[0m\u001b[0m\n\u001b[0;32m--> 417\u001b[0;31m                 \u001b[0mSparkContext\u001b[0m\u001b[0;34m.\u001b[0m\u001b[0m_gateway\u001b[0m \u001b[0;34m=\u001b[0m \u001b[0mgateway\u001b[0m \u001b[0;32mor\u001b[0m \u001b[0mlaunch_gateway\u001b[0m\u001b[0;34m(\u001b[0m\u001b[0mconf\u001b[0m\u001b[0;34m)\u001b[0m\u001b[0;34m\u001b[0m\u001b[0;34m\u001b[0m\u001b[0m\n\u001b[0m\u001b[1;32m    418\u001b[0m                 \u001b[0mSparkContext\u001b[0m\u001b[0;34m.\u001b[0m\u001b[0m_jvm\u001b[0m \u001b[0;34m=\u001b[0m \u001b[0mSparkContext\u001b[0m\u001b[0;34m.\u001b[0m\u001b[0m_gateway\u001b[0m\u001b[0;34m.\u001b[0m\u001b[0mjvm\u001b[0m\u001b[0;34m\u001b[0m\u001b[0;34m\u001b[0m\u001b[0m\n\u001b[1;32m    419\u001b[0m \u001b[0;34m\u001b[0m\u001b[0m\n",
      "\u001b[0;32m~/opt/anaconda3/lib/python3.9/site-packages/pyspark/java_gateway.py\u001b[0m in \u001b[0;36mlaunch_gateway\u001b[0;34m(conf, popen_kwargs)\u001b[0m\n\u001b[1;32m    104\u001b[0m \u001b[0;34m\u001b[0m\u001b[0m\n\u001b[1;32m    105\u001b[0m             \u001b[0;32mif\u001b[0m \u001b[0;32mnot\u001b[0m \u001b[0mos\u001b[0m\u001b[0;34m.\u001b[0m\u001b[0mpath\u001b[0m\u001b[0;34m.\u001b[0m\u001b[0misfile\u001b[0m\u001b[0;34m(\u001b[0m\u001b[0mconn_info_file\u001b[0m\u001b[0;34m)\u001b[0m\u001b[0;34m:\u001b[0m\u001b[0;34m\u001b[0m\u001b[0;34m\u001b[0m\u001b[0m\n\u001b[0;32m--> 106\u001b[0;31m                 \u001b[0;32mraise\u001b[0m \u001b[0mRuntimeError\u001b[0m\u001b[0;34m(\u001b[0m\u001b[0;34m\"Java gateway process exited before sending its port number\"\u001b[0m\u001b[0;34m)\u001b[0m\u001b[0;34m\u001b[0m\u001b[0;34m\u001b[0m\u001b[0m\n\u001b[0m\u001b[1;32m    107\u001b[0m \u001b[0;34m\u001b[0m\u001b[0m\n\u001b[1;32m    108\u001b[0m             \u001b[0;32mwith\u001b[0m \u001b[0mopen\u001b[0m\u001b[0;34m(\u001b[0m\u001b[0mconn_info_file\u001b[0m\u001b[0;34m,\u001b[0m \u001b[0;34m\"rb\"\u001b[0m\u001b[0;34m)\u001b[0m \u001b[0;32mas\u001b[0m \u001b[0minfo\u001b[0m\u001b[0;34m:\u001b[0m\u001b[0;34m\u001b[0m\u001b[0;34m\u001b[0m\u001b[0m\n",
      "\u001b[0;31mRuntimeError\u001b[0m: Java gateway process exited before sending its port number"
     ]
    }
   ],
   "source": [
    "import findspark    \n",
    "findspark.init()\n",
    "import pyspark\n",
    "sc = pyspark.SparkContext(appName=\"myAppName\")                  #Initialize a PySpark setup "
   ]
  },
  {
   "cell_type": "markdown",
   "id": "18fe6532-7b2b-43fc-bbf1-b282d87c4cb4",
   "metadata": {},
   "source": [
    "# 1. Data collection"
   ]
  },
  {
   "cell_type": "markdown",
   "id": "e2c53cba-0b9d-4db4-a286-aaeb7c0bb170",
   "metadata": {},
   "source": [
    "## 1.1. Get the list of places\n"
   ]
  },
  {
   "cell_type": "code",
   "execution_count": null,
   "id": "7cbfa368-8991-4b48-8ef8-21f99eff73ea",
   "metadata": {},
   "outputs": [],
   "source": [
    "places = []\n",
    "\n",
    "for i in range(1,401):\n",
    "    main_url = 'https://www.atlasobscura.com/places?page=' + str(i) +'&sort=likes_count'\n",
    "    cont = requests.get(main_url)\n",
    "    soup = BeautifulSoup(cont.text)\n",
    "    for place in soup.find_all('a', {'class':'content-card content-card-place'}):\n",
    "        places.append('https://www.atlasobscura.com'+place.get('href'))\n",
    "\n",
    "f = open('places.txt','w+')\n",
    "\n",
    "for place in places:\n",
    "    f.write(place+'\\n')\n",
    "\n",
    "f.close()"
   ]
  },
  {
   "cell_type": "markdown",
   "id": "db7d4b30-cacf-4157-bba6-f135886f9b71",
   "metadata": {},
   "source": [
    "_____________"
   ]
  },
  {
   "cell_type": "markdown",
   "id": "cb929137-405c-4738-a256-d8e887c6d351",
   "metadata": {},
   "source": [
    "## 1.2 Crawl places"
   ]
  },
  {
   "cell_type": "code",
   "execution_count": null,
   "id": "c034aa15-b321-47e6-9200-7c5f87340f46",
   "metadata": {},
   "outputs": [],
   "source": [
    "f = open('places.txt','r')\n",
    "\n",
    "lines = f.readlines()\n",
    "\n",
    "dic = {}\n",
    "for i in range(0,7200,18):\n",
    "    dic[1+i//18] = lines[i:i+18]\n",
    "\n",
    "for page in range(0,401):\n",
    "    try:\n",
    "        os.mkdir(r'C:\\\\Users\\\\Leonardo\\\\ADM_HW3\\\\page ' + str(page))\n",
    "    except FileExistsError:\n",
    "        pass\n",
    "    \n",
    "    path = r'C:\\\\Users\\\\Leonardo\\\\ADM_HW3\\\\page ' + str(page)\n",
    "    os.chdir(path)\n",
    "\n",
    "    for place in dic[page]:\n",
    "        place_name = place[36:len(place)-1]\n",
    "        vanilla = requests.get(place[:-1],allow_redirects=False,headers = {'User-agent': 'your bot 0.1'})\n",
    "        \n",
    "        with open(place_name+\".txt\",'w+',encoding=\"utf-8\") as new_file:\n",
    "            new_file.write(vanilla.text)\n",
    "\n",
    "os.chdir(r'C:\\\\Users\\\\Leonardo\\\\ADM_HW3')"
   ]
  },
  {
   "cell_type": "markdown",
   "id": "2430dcbd-e617-4b4b-9c90-0796e0cbad59",
   "metadata": {},
   "source": [
    "____________"
   ]
  },
  {
   "cell_type": "markdown",
   "id": "a0459e40-1e7d-4a14-987b-855837102c60",
   "metadata": {},
   "source": [
    "## 1.3 Parse downloaded pages"
   ]
  },
  {
   "cell_type": "markdown",
   "id": "f49a141e-07c6-4ef8-b2d8-7508fb9f5a81",
   "metadata": {},
   "source": [
    "We need to define a script to extract useful information from each HTML we collected. In particular we want these information:\n",
    "1. Place Name (to save as $placeName$): String.\n",
    "2. Place Tags (to save as $placeTags$): List of Strings.\n",
    "3. Number of people who have been there (to save as $numPeopleVisited$): Integer.\n",
    "4. Number of people who want to visit the place(to save as $numPeopleWant$): Integer.\n",
    "5. Description (to save as $placeDesc$): String. Everything from under the first image up to \"know before you go\" (orange frame on the example image).\n",
    "6. Short Description (to save as $placeShortDesc$): String. Everything from the title and location up to the image (blue frame on the example image).\n",
    "7. Nearby Places (to save as $placeNearby$): Extract the names of all nearby places, but only keep unique values: List of Strings.\n",
    "8. Address of the place(to save as $placeAddress$): String.\n",
    "9. Altitude and Longitude of the place's location(to save as $placeAlt$ and $placeLong$): Integers\n",
    "10. The username of the post editors (to save as $placeEditors$): List of Strings.\n",
    "11. Post publishing date (to save as $placePubDate$): datetime.\n",
    "12. The names of the lists that the place was included in (to save as $placeRelatedLists$): List of Strings.\n",
    "13. The names of the related places (to save as $placeRelatedPlaces$): List of Strings.\n",
    "14. The URL of the page of the place (to save as $placeURL$):String"
   ]
  },
  {
   "cell_type": "markdown",
   "id": "d7ab2494-ef9a-4781-937f-225005b6928e",
   "metadata": {},
   "source": [
    "We leverage *BeautifulSoup library* to scrape the information, but we need just an additional method to convert into a datetime object the post publishing date since it was a string in the format 'Month Day, Year'. For example we found 'May 8, 2010' for the very first link, and instead we wanted '2010/05/08'. This method does so:"
   ]
  },
  {
   "cell_type": "code",
   "execution_count": null,
   "id": "554ae59c-ecbf-4ad3-bc06-5f5f97e8550f",
   "metadata": {},
   "outputs": [],
   "source": [
    "def string_to_datetime(string):\n",
    "    return str(datetime.strptime(string, '%B %d, %Y').date())"
   ]
  },
  {
   "cell_type": "markdown",
   "id": "aba77953-7815-46b1-a045-eb77941ce15d",
   "metadata": {},
   "source": [
    "We define a function that builds a dictionary of information for every place we go through: then from this dictionary we'll buil a .tsv for every HTML document we gathered."
   ]
  },
  {
   "cell_type": "code",
   "execution_count": null,
   "id": "17c331df-bd9f-4ac9-ba0a-ba7f16196880",
   "metadata": {},
   "outputs": [],
   "source": [
    "def darkAtlasScraper(text, filename):\n",
    "    \n",
    "    soup = BeautifulSoup(text)\n",
    "    \n",
    "    scraped = {'placeName': 'NaN',\n",
    "               'placeTags': 'NaN',\n",
    "               'numPeopleVisited': 'NaN',\n",
    "               'numPeopleWant': 'NaN',\n",
    "               'placeDesc': 'NaN',\n",
    "               'placeShortDesc':'Nan',\n",
    "               'placeNearby': 'NaN',\n",
    "               'placeAddress': 'NaN',\n",
    "               'placeAlt': 'NaN',\n",
    "               'placeLong': 'NaN',\n",
    "               'placeEditors': 'NaN',\n",
    "               'placePubDate': 'NaN',\n",
    "               'placeRelatedPlaces': 'NaN',\n",
    "               'placeRelatedLists': 'NaN',\n",
    "               'placeURL': 'NaN'}          \n",
    "    \n",
    "    try:\n",
    "        scraped['placeName'] = soup.find_all('h1',{'class':'DDPage__header-title'})[0].contents[0]\n",
    "    except IndexError:\n",
    "        pass\n",
    "           \n",
    "    try:\n",
    "        scraped['placeTags'] = list(map(lambda s:s.strip(),\n",
    "                                        [tag.contents[0] for tag in soup.find_all('a',{'class':'itemTags__link js-item-tags-link'})]))\n",
    "    except IndexError:\n",
    "        pass\n",
    "    \n",
    "    \n",
    "    counters = soup.find_all('div',{'class':'title-md item-action-count'})\n",
    "    try:\n",
    "        scraped['numPeopleVisited'] = int(counters[0].contents[0])\n",
    "    except IndexError:\n",
    "        pass\n",
    "    try:\n",
    "        scraped['numPeopleWant'] = int(counters[1].contents[0])\n",
    "    except IndexError:\n",
    "        pass\n",
    "    \n",
    "\n",
    "    place_desc = ''\n",
    "    for paragraph in soup.find_all('div',{'class':'DDP__body-copy'})[0].find_all('p'):\n",
    "        for element in paragraph.contents:\n",
    "            if re.search('<[^>]*>', str(element)):\n",
    "                element = re.sub('<[^>]*>', \"\", str(element))\n",
    "                place_desc += element\n",
    "            else:\n",
    "                place_desc += str(element)\n",
    "    scraped['placeDesc'] = place_desc\n",
    "    \n",
    "    try:\n",
    "        scraped['placeShortDesc'] = soup.find_all('h3',{'class':'DDPage__header-dek'})[0].contents[0].replace(u'\\xa0', u'')\n",
    "    except IndexError:\n",
    "        pass\n",
    "\n",
    "    nearby = []\n",
    "    try:\n",
    "        for nearbies in soup.find_all('div',{'class':'DDPageSiderailRecirc__item-text'}):\n",
    "            nearby.append(nearbies.find_all('div',{'class':'DDPageSiderailRecirc__item-title'})[0].contents[0])\n",
    "        scraped['placeNearby'] = nearby\n",
    "    except IndexError:\n",
    "        pass\n",
    "    \n",
    "    try:\n",
    "        address = (str(soup.find_all('aside',{'class':'DDPageSiderail__details'})[0]\n",
    "                           .find_all('address',{'class':'DDPageSiderail__address'})[0]\n",
    "                           .find_all('div')[0])\n",
    "                           .split('\\n', 1)[0])\n",
    "        scraped['placeAddress'] = re.sub('<[^>]*>', \" \", address)\n",
    "    except IndexError:\n",
    "        pass\n",
    "    \n",
    "    coordinates = soup.find_all('div',{'class':'DDPageSiderail__coordinates js-copy-coordinates'})[0].contents[2]\n",
    "    scraped['placeAlt'] = float(coordinates.split()[0][:-1])\n",
    "    scraped['placeLong'] = float(coordinates.split()[1])\n",
    "\n",
    "\n",
    "    editorsoup = soup.find_all('a',{'class':'DDPContributorsList__contributor'})\n",
    "    scraped['placeEditors'] = [stuff.find_all('span')[0].contents[0] \n",
    "                               for stuff in editorsoup \n",
    "                               if len(stuff.find_all('span')) > 0]\n",
    "    if not scraped['placeEditors']:\n",
    "        zzz = soup.find_all('div',{'class':'ugc-editors'})\n",
    "        flag = 0\n",
    "        for soupper in zzz:\n",
    "            if soupper.find_all('h6')[0].contents[0] == 'Added by':\n",
    "                flag = 1\n",
    "                break\n",
    "        try:\n",
    "            editorsoup = soup.find_all('div',{'class':'ugc-editors'})[flag].find_all('a',{'class':'DDPContributorsList__contributor'})\n",
    "            scraped['placeEditors'] = [editors.contents[0]\n",
    "                                       for editors in editorsoup]\n",
    "        except IndexError:\n",
    "            pass\n",
    "            \n",
    "    try:\n",
    "        scraped['placePubDate'] = string_to_datetime(soup.find_all('div',{'class':'DDPContributor__name'})[0].contents[0])\n",
    "    except IndexError:\n",
    "        pass\n",
    "\n",
    "    kircher = soup.find_all('div',{'class':'athanasius'})\n",
    "    for piece in kircher:\n",
    "        for piecer in piece.find_all('div',{'class':'CardRecircSection__title'}):\n",
    "            if piecer.contents[0] == 'Related Places':\n",
    "                scraped['placeRelatedPlaces'] = [re.sub('<[^>]*>', \"\", str(chunk.contents[1])) \n",
    "                                                 for chunk in piece.find_all('h3',{'class':'Card__heading --content-card-v2-title js-title-content'})]\n",
    "            elif 'Appears in' in piecer.contents[0]:\n",
    "                scraped['placeRelatedLists'] =  [re.sub('<[^>]*>', \"\", str(chunk.contents[1])) \n",
    "                                                 for chunk in piece.find_all('h3',{'class':'Card__heading --content-card-v2-title js-title-content'})]\n",
    "    \n",
    "    scraped['placeURL'] = 'https://www.atlasobscura.com/places/' + filename[:-4]\n",
    "    \n",
    "    return scraped"
   ]
  },
  {
   "cell_type": "markdown",
   "id": "7fb53fea-41ad-4584-84ea-8580afffcb0b",
   "metadata": {},
   "source": [
    "Now we have to define the script that goes through each folder and for each folder goes through each downloaded HTML, scrapes information and store them in a new .tsv file."
   ]
  },
  {
   "cell_type": "code",
   "execution_count": null,
   "id": "9fa2407d-1215-48a3-83a5-313be2db3446",
   "metadata": {},
   "outputs": [],
   "source": [
    "for page in range(1,401):\n",
    "    path = r'C:\\\\Users\\\\Leonardo\\\\ADM_HW3\\\\page ' + str(page)\n",
    "    os.chdir(path)\n",
    "    \n",
    "    for filename in os.listdir(os.getcwd()):\n",
    "        os.chdir(r'C:\\\\Users\\\\Leonardo\\\\ADM_HW3\\\\page ' + str(page))\n",
    "        \n",
    "        new_path = r'C:\\\\Users\\\\Leonardo\\\\ADM_HW3\\\\page ' + str(page) + '\\\\' + filename\n",
    "        soupper = open(new_path, 'r',encoding=\"utf-8\")\n",
    "        \n",
    "        os.chdir(r'C:\\\\Users\\\\Leonardo\\\\ADM_HW3\\\\tsv')\n",
    "        newer_path = r'C:\\\\Users\\\\Leonardo\\\\ADM_HW3\\\\tsv\\\\'+filename[:-4]+'.tsv'\n",
    "        try:\n",
    "            infos = darkAtlasScraper(soupper,filename)\n",
    "        except IndexError:\n",
    "            print(newer_path)\n",
    "        with open(newer_path,'w+',encoding=\"utf-8\") as new_file:\n",
    "            for info in infos.values():\n",
    "                if type(info) == list:\n",
    "                    for index in range(len(info)):\n",
    "                        if index < len(info) - 1:\n",
    "                            new_file.write(str(info[index])+ ', ')\n",
    "                        elif index == len(info) - 1:\n",
    "                            new_file.write(str(info[index]))\n",
    "                    new_file.write('\\t')\n",
    "                else:\n",
    "                    new_file.write(str(info))\n",
    "                    new_file.write('\\t')"
   ]
  },
  {
   "cell_type": "code",
   "execution_count": null,
   "id": "7a0a4d4b-29bd-40c4-bb87-ece21839d9ac",
   "metadata": {},
   "outputs": [],
   "source": [
    "os.chdir(r'C:\\\\Users\\\\Leonardo')"
   ]
  },
  {
   "cell_type": "markdown",
   "id": "96ded8d3",
   "metadata": {},
   "source": [
    "We then decided to build a .csv to collect all the data and to make them always available in a practical format. "
   ]
  },
  {
   "cell_type": "code",
   "execution_count": null,
   "id": "59a1fc41",
   "metadata": {},
   "outputs": [],
   "source": [
    "path= r\"C:\\Users\\Leonardo\\ADM_HW3\\tsv\"\n",
    "final_dataset = []\n",
    "filenames = os.listdir(path)\n",
    "\n",
    "for file in filenames:\n",
    "    if file.endswith('tsv'):\n",
    "        file_path = os.path.join(path,file)\n",
    "        try:\n",
    "            df = pd.read_csv(file_path, sep =\"\\t\", header=None, quoting=3)\n",
    "            final_dataset.append(df)\n",
    "        except:\n",
    "            print(file)\n",
    "            pass\n",
    "    \n",
    "final_dataset = pd.concat(final_dataset)\n",
    "final_dataset.to_csv('final_dataset.csv', index = False)"
   ]
  },
  {
   "cell_type": "code",
   "execution_count": 8,
   "id": "bdac034c",
   "metadata": {},
   "outputs": [],
   "source": [
    "path = \"final_dataset.csv\"\n",
    "\n",
    "mostPopularPlaces = pd.read_csv(path)\n",
    "mostPopularPlaces = mostPopularPlaces.iloc[:, :-2]\n",
    "mostPopularPlaces.columns = ['placeName', 'placeTags', 'numPeopleVisited', 'numPeopleWant', 'placeDesc', 'placeShortDesc', 'placeNearby', \n",
    "        'placeAddress', 'placeAlt', 'placeLong', 'placeEditors', 'placePubDate', 'placeRelatedPlaces', 'placeRelatedLists', 'placeURL']"
   ]
  },
  {
   "cell_type": "markdown",
   "id": "ca50ebb1-6b01-4e0c-ac62-d6d364b9ba9c",
   "metadata": {},
   "source": [
    "We now have the whole dataset and we are ready to start building the search engines. "
   ]
  },
  {
   "cell_type": "markdown",
   "id": "af1673fa-cf2d-494b-b215-e3f4468bf727",
   "metadata": {},
   "source": [
    "_________________________________________________"
   ]
  },
  {
   "cell_type": "markdown",
   "id": "f1023031",
   "metadata": {},
   "source": [
    "## 2. Search Engine"
   ]
  },
  {
   "cell_type": "code",
   "execution_count": 9,
   "id": "ea00f8fc",
   "metadata": {},
   "outputs": [
    {
     "name": "stderr",
     "output_type": "stream",
     "text": [
      "[nltk_data] Downloading package punkt to /Users/the_redd_/nltk_data...\n",
      "[nltk_data]   Package punkt is already up-to-date!\n",
      "[nltk_data] Downloading package stopwords to\n",
      "[nltk_data]     /Users/the_redd_/nltk_data...\n",
      "[nltk_data]   Package stopwords is already up-to-date!\n"
     ]
    },
    {
     "data": {
      "text/plain": [
       "True"
      ]
     },
     "execution_count": 9,
     "metadata": {},
     "output_type": "execute_result"
    }
   ],
   "source": [
    "import nltk\n",
    "from nltk.tokenize import word_tokenize\n",
    "from nltk.corpus import stopwords\n",
    "from nltk.stem import PorterStemmer\n",
    "\n",
    "nltk.download('punkt')                           #Download command on NLTK library to get specific methods\n",
    "nltk.download('stopwords')"
   ]
  },
  {
   "cell_type": "code",
   "execution_count": 10,
   "id": "cb97ec45",
   "metadata": {},
   "outputs": [],
   "source": [
    "def ntlk_analysis(info):\n",
    "    final_words = []\n",
    "    tokens = word_tokenize(info.lower())\n",
    "    stop_words = set(stopwords.words(\"english\"))\n",
    "    ps = PorterStemmer()\n",
    "    for token in tokens:\n",
    "        if token not in stop_words and token.encode().isalpha():\n",
    "            stemming_token = ps.stem(token)\n",
    "            final_words.append(stemming_token)\n",
    "            \n",
    "    return final_words"
   ]
  },
  {
   "cell_type": "markdown",
   "id": "3a87f2d1",
   "metadata": {},
   "source": [
    "## 2.1. Conjunctive query"
   ]
  },
  {
   "cell_type": "code",
   "execution_count": 11,
   "id": "acd48469",
   "metadata": {},
   "outputs": [],
   "source": [
    "listOfWords = []\n",
    "for index, row in mostPopularPlaces['placeDesc'].iteritems():\n",
    "    description = mostPopularPlaces['placeDesc'][index]\n",
    "    listOfWords.append(ntlk_analysis(description))"
   ]
  },
  {
   "cell_type": "code",
   "execution_count": 12,
   "id": "b0027273",
   "metadata": {},
   "outputs": [],
   "source": [
    "mostPopularPlaces['listOfWords'] = listOfWords"
   ]
  },
  {
   "cell_type": "code",
   "execution_count": 13,
   "id": "9821576c",
   "metadata": {},
   "outputs": [
    {
     "data": {
      "text/plain": [
       "0     [need, drop, research, facil, exist, address, ...\n",
       "1     [walk, street, forgiven, think, parisian, buil...\n",
       "2     [outsid, bluff, utah, massiv, alcov, loom, san...\n",
       "3     [receiv, fanfar, today, small, town, aurora, t...\n",
       "4     [nestl, ground, floor, unesco, world, heritag,...\n",
       "5     [amidst, glut, shop, restaur, make, san, diego...\n",
       "6     [loui, flight, cage, built, world, fair, year,...\n",
       "7     [commerci, hub, excit, new, way, travel, art, ...\n",
       "8     [home, futur, past, featur, aqua, tile, bathro...\n",
       "9     [pope, john, paul, ii, gift, use, santi, vince...\n",
       "10    [beeton, christma, annual, huge, popular, vict...\n",
       "11    [updat, hour, church, elvi, longer, physic, lo...\n",
       "12    [could, quit, possibl, frivol, yet, excit, adv...\n",
       "13    [els, new, york, citi, would, find, stunningli...\n",
       "14    [airplan, aficionado, rejoic, heaven, found, g...\n",
       "Name: listOfWords, dtype: object"
      ]
     },
     "execution_count": 13,
     "metadata": {},
     "output_type": "execute_result"
    }
   ],
   "source": [
    "mostPopularPlaces['listOfWords'].head(15)"
   ]
  },
  {
   "cell_type": "markdown",
   "id": "b11ce52b",
   "metadata": {},
   "source": [
    "### 2.1.1) Create your index!"
   ]
  },
  {
   "cell_type": "code",
   "execution_count": 14,
   "id": "df8d64bf",
   "metadata": {},
   "outputs": [],
   "source": [
    "vocabulary = {}\n",
    "term_id = 1\n",
    "words = []\n",
    "for l in listOfWords:\n",
    "    words += l\n",
    "for word in sorted(list(set(words))):\n",
    "    vocabulary[word] = term_id\n",
    "    term_id += 1\n",
    "\n",
    "with open('vocabulary.txt', 'w') as file:\n",
    "    for word, term_id in vocabulary.items():\n",
    "        file.write('%s:%s\\n' % (word, term_id))"
   ]
  },
  {
   "cell_type": "code",
   "execution_count": 15,
   "id": "81c392da",
   "metadata": {},
   "outputs": [
    {
     "data": {
      "text/plain": [
       "\"\\nTo open the vocabulary from vocabulary.text use this script\\nvocabulary = {}\\nwith open('vocabulary.txt', 'r') as file:\\n    for line in file.readlines():\\n        word = line.split(':')[0]\\n        term_id = line.split(':')[1]\\n        vocabulary[word] = int(term_id)\\n\""
      ]
     },
     "execution_count": 15,
     "metadata": {},
     "output_type": "execute_result"
    }
   ],
   "source": [
    "'''\n",
    "To open the vocabulary from vocabulary.text use this script\n",
    "vocabulary = {}\n",
    "with open('vocabulary.txt', 'r') as file:\n",
    "    for line in file.readlines():\n",
    "        word = line.split(':')[0]\n",
    "        term_id = line.split(':')[1]\n",
    "        vocabulary[word] = int(term_id)\n",
    "'''"
   ]
  },
  {
   "cell_type": "code",
   "execution_count": 16,
   "id": "21b65b8c",
   "metadata": {},
   "outputs": [],
   "source": [
    "inverted_index = {}\n",
    "\n",
    "for index, list_ in mostPopularPlaces['listOfWords'].iteritems():\n",
    "    for word in set(list_):\n",
    "        if vocabulary[word] in inverted_index:\n",
    "            inverted_index[vocabulary[word]].append(index)\n",
    "        else:\n",
    "            inverted_index[vocabulary[word]] = [index]\n",
    "\n",
    "inverted_index = dict(sorted(inverted_index.items()))\n",
    "with open('inverted_index1.txt', 'w') as file:\n",
    "    for word, indexing in inverted_index.items():\n",
    "        texted_indexing = str(indexing[0]) + ', ' + ', '.join(list(map(str, indexing[1:])))\n",
    "        file.write('%s:%s\\n' % (word, texted_indexing))"
   ]
  },
  {
   "cell_type": "code",
   "execution_count": 17,
   "id": "6975e03f",
   "metadata": {},
   "outputs": [
    {
     "data": {
      "text/plain": [
       "\"\\nTo open the vocabulary from vocabulary.text use this script\\ninverted_index = {}\\nwith open('inverted_index1.txt', 'r') as file:\\n    for line in file.readlines():\\n        word = line.split(':')[0]\\n        indexing = line.split(':')[1].strip('\\n')\\n        indexing = indexing.split(',')\\n        if indexing[-1] == ' ':\\n            indexing = indexing[:-1]\\n        inverted_index[word] = list(map(int, [string.strip() for string in indexing]))\\n\""
      ]
     },
     "execution_count": 17,
     "metadata": {},
     "output_type": "execute_result"
    }
   ],
   "source": [
    "'''\n",
    "To open the vocabulary from vocabulary.text use this script\n",
    "inverted_index = {}\n",
    "with open('inverted_index1.txt', 'r') as file:\n",
    "    for line in file.readlines():\n",
    "        word = line.split(':')[0]\n",
    "        indexing = line.split(':')[1].strip('\\n')\n",
    "        indexing = indexing.split(',')\n",
    "        if indexing[-1] == ' ':\n",
    "            indexing = indexing[:-1]\n",
    "        inverted_index[word] = list(map(int, [string.strip() for string in indexing]))\n",
    "'''"
   ]
  },
  {
   "cell_type": "markdown",
   "id": "2a0ed274",
   "metadata": {},
   "source": [
    "### 2.1.2) Execute the query"
   ]
  },
  {
   "cell_type": "code",
   "execution_count": 18,
   "id": "df9c2d66",
   "metadata": {},
   "outputs": [],
   "source": [
    "def search_match(query,df):\n",
    "    result = []\n",
    "    query = ntlk_analysis(query)\n",
    "    match = {vocabulary[term]: [] for term in query}\n",
    "\n",
    "    for key,list_of_values in inverted_index.items():\n",
    "        if key in match:\n",
    "            for value in list_of_values:\n",
    "                if value not in match[key]:\n",
    "                    match[key].append(value)\n",
    "                    \n",
    "    final_values = list(match.values())\n",
    "    intersection = set.intersection(*map(set,final_values))\n",
    "    \n",
    "    for index in intersection:\n",
    "        series = df[['placeName', 'placeDesc','placeURL']].loc[index]\n",
    "        result.append(series)\n",
    "    \n",
    "    return pd.DataFrame(result)"
   ]
  },
  {
   "cell_type": "code",
   "execution_count": 19,
   "id": "b2eccf91",
   "metadata": {},
   "outputs": [
    {
     "data": {
      "text/html": [
       "<div>\n",
       "<style scoped>\n",
       "    .dataframe tbody tr th:only-of-type {\n",
       "        vertical-align: middle;\n",
       "    }\n",
       "\n",
       "    .dataframe tbody tr th {\n",
       "        vertical-align: top;\n",
       "    }\n",
       "\n",
       "    .dataframe thead th {\n",
       "        text-align: right;\n",
       "    }\n",
       "</style>\n",
       "<table border=\"1\" class=\"dataframe\">\n",
       "  <thead>\n",
       "    <tr style=\"text-align: right;\">\n",
       "      <th></th>\n",
       "      <th>placeName</th>\n",
       "      <th>placeDesc</th>\n",
       "      <th>placeURL</th>\n",
       "    </tr>\n",
       "  </thead>\n",
       "  <tbody>\n",
       "    <tr>\n",
       "      <th>1024</th>\n",
       "      <td>Catoctin Furnace</td>\n",
       "      <td>In the early 1770s, Thomas Johnson discovered ...</td>\n",
       "      <td>https://www.atlasobscura.com/places/catoctin-f...</td>\n",
       "    </tr>\n",
       "    <tr>\n",
       "      <th>6657</th>\n",
       "      <td>U-505</td>\n",
       "      <td>One of only four remaining U-boats in the worl...</td>\n",
       "      <td>https://www.atlasobscura.com/places/u-505</td>\n",
       "    </tr>\n",
       "    <tr>\n",
       "      <th>1542</th>\n",
       "      <td>Diego Rivera's Detroit Industry</td>\n",
       "      <td>In a city overflowing with street art, murals,...</td>\n",
       "      <td>https://www.atlasobscura.com/places/diego-rive...</td>\n",
       "    </tr>\n",
       "    <tr>\n",
       "      <th>1031</th>\n",
       "      <td>Cave Hill Cemetery</td>\n",
       "      <td>Holding the bodies of a number of influential ...</td>\n",
       "      <td>https://www.atlasobscura.com/places/cave-hill-...</td>\n",
       "    </tr>\n",
       "    <tr>\n",
       "      <th>3593</th>\n",
       "      <td>Mansfield Memorial Museum</td>\n",
       "      <td>Back at the 1939 World’s Fair in New York, Ele...</td>\n",
       "      <td>https://www.atlasobscura.com/places/mansfield-...</td>\n",
       "    </tr>\n",
       "    <tr>\n",
       "      <th>...</th>\n",
       "      <td>...</td>\n",
       "      <td>...</td>\n",
       "      <td>...</td>\n",
       "    </tr>\n",
       "    <tr>\n",
       "      <th>1002</th>\n",
       "      <td>Castle Post</td>\n",
       "      <td>Looking more like an abandoned Medieval Times ...</td>\n",
       "      <td>https://www.atlasobscura.com/places/castle-post</td>\n",
       "    </tr>\n",
       "    <tr>\n",
       "      <th>495</th>\n",
       "      <td>Belgrade Tesla Museum</td>\n",
       "      <td>In the center of Belgrade, a villa holds the w...</td>\n",
       "      <td>https://www.atlasobscura.com/places/belgrade-t...</td>\n",
       "    </tr>\n",
       "    <tr>\n",
       "      <th>2548</th>\n",
       "      <td>Harvard Museum of Natural History</td>\n",
       "      <td>Collecting three different institutions into o...</td>\n",
       "      <td>https://www.atlasobscura.com/places/harvard-mu...</td>\n",
       "    </tr>\n",
       "    <tr>\n",
       "      <th>3060</th>\n",
       "      <td>KattenKabinet</td>\n",
       "      <td>The death of a pet can inspire a number of rea...</td>\n",
       "      <td>https://www.atlasobscura.com/places/kattenkabinet</td>\n",
       "    </tr>\n",
       "    <tr>\n",
       "      <th>3574</th>\n",
       "      <td>Mammoth Cave Wildlife Museum</td>\n",
       "      <td>Cave City is a wonderland of kitschy tourist t...</td>\n",
       "      <td>https://www.atlasobscura.com/places/mammoth-ca...</td>\n",
       "    </tr>\n",
       "  </tbody>\n",
       "</table>\n",
       "<p>239 rows × 3 columns</p>\n",
       "</div>"
      ],
      "text/plain": [
       "                              placeName  \\\n",
       "1024                   Catoctin Furnace   \n",
       "6657                              U-505   \n",
       "1542    Diego Rivera's Detroit Industry   \n",
       "1031                 Cave Hill Cemetery   \n",
       "3593          Mansfield Memorial Museum   \n",
       "...                                 ...   \n",
       "1002                        Castle Post   \n",
       "495               Belgrade Tesla Museum   \n",
       "2548  Harvard Museum of Natural History   \n",
       "3060                      KattenKabinet   \n",
       "3574       Mammoth Cave Wildlife Museum   \n",
       "\n",
       "                                              placeDesc  \\\n",
       "1024  In the early 1770s, Thomas Johnson discovered ...   \n",
       "6657  One of only four remaining U-boats in the worl...   \n",
       "1542  In a city overflowing with street art, murals,...   \n",
       "1031  Holding the bodies of a number of influential ...   \n",
       "3593  Back at the 1939 World’s Fair in New York, Ele...   \n",
       "...                                                 ...   \n",
       "1002  Looking more like an abandoned Medieval Times ...   \n",
       "495   In the center of Belgrade, a villa holds the w...   \n",
       "2548  Collecting three different institutions into o...   \n",
       "3060  The death of a pet can inspire a number of rea...   \n",
       "3574  Cave City is a wonderland of kitschy tourist t...   \n",
       "\n",
       "                                               placeURL  \n",
       "1024  https://www.atlasobscura.com/places/catoctin-f...  \n",
       "6657          https://www.atlasobscura.com/places/u-505  \n",
       "1542  https://www.atlasobscura.com/places/diego-rive...  \n",
       "1031  https://www.atlasobscura.com/places/cave-hill-...  \n",
       "3593  https://www.atlasobscura.com/places/mansfield-...  \n",
       "...                                                 ...  \n",
       "1002    https://www.atlasobscura.com/places/castle-post  \n",
       "495   https://www.atlasobscura.com/places/belgrade-t...  \n",
       "2548  https://www.atlasobscura.com/places/harvard-mu...  \n",
       "3060  https://www.atlasobscura.com/places/kattenkabinet  \n",
       "3574  https://www.atlasobscura.com/places/mammoth-ca...  \n",
       "\n",
       "[239 rows x 3 columns]"
      ]
     },
     "execution_count": 19,
     "metadata": {},
     "output_type": "execute_result"
    }
   ],
   "source": [
    "first_search_engine = search_match('american museum', mostPopularPlaces)\n",
    "first_search_engine"
   ]
  },
  {
   "cell_type": "markdown",
   "id": "d8113784",
   "metadata": {},
   "source": [
    "# 2.2. Conjunctive query & Ranking score"
   ]
  },
  {
   "cell_type": "markdown",
   "id": "3db3ab6d",
   "metadata": {},
   "source": [
    "### *From-scratch-implementation*"
   ]
  },
  {
   "cell_type": "markdown",
   "id": "9800293f",
   "metadata": {},
   "source": [
    "First of all we want to define the **inverse document frequency** vector, where we define weights for each $j_{th}$ word through the factor $log_{10}\\frac{n}{n_j}$, where $n$ is the total number of documents and $n_j$ is the number of occurrencies of that word. "
   ]
  },
  {
   "cell_type": "code",
   "execution_count": 20,
   "id": "20674b2d",
   "metadata": {},
   "outputs": [],
   "source": [
    "word_occ = Counter(reduce(lambda x,y:x+y, mostPopularPlaces.listOfWords))\n",
    "idf = {}\n",
    "for word in word_occ.keys():\n",
    "    idf[word] = math.log10(7200/word_occ[word])"
   ]
  },
  {
   "cell_type": "code",
   "execution_count": 21,
   "id": "5e32e2da",
   "metadata": {},
   "outputs": [],
   "source": [
    "tfidf_inverted_index = {}\n",
    "\n",
    "for index, list_ in mostPopularPlaces['listOfWords'].iteritems():\n",
    "    counter = Counter(list_)\n",
    "    for word in set(list_):\n",
    "        tf_idf = counter[word]*idf[word]/len(list_)\n",
    "        if vocabulary[word] in tfidf_inverted_index:\n",
    "            tfidf_inverted_index[vocabulary[word]].append((index, tf_idf))\n",
    "        else:\n",
    "            tfidf_inverted_index[vocabulary[word]] = [(index, tf_idf)]\n",
    "\n",
    "tfidf_inverted_index = dict(sorted(tfidf_inverted_index.items()))\n",
    "with open('tfidf_inverted_index.txt', 'w') as file:\n",
    "    for word, indexing in tfidf_inverted_index.items():\n",
    "        texted_indexing = str(indexing[0]) + ', ' + ', '.join(list(map(str, indexing[1:])))\n",
    "        file.write('%s:%s\\n' % (word, texted_indexing))"
   ]
  },
  {
   "cell_type": "code",
   "execution_count": 22,
   "id": "e551f220",
   "metadata": {},
   "outputs": [],
   "source": [
    "def cosine_similarity(v1,v2):\n",
    "    vec1 = np.array(v1)\n",
    "    vec2 = np.array(v2)\n",
    "    return np.dot(vec1,vec2)/(np.linalg.norm(vec1)*np.linalg.norm(vec2))"
   ]
  },
  {
   "cell_type": "code",
   "execution_count": 23,
   "id": "4453a28b",
   "metadata": {},
   "outputs": [],
   "source": [
    "def tfidf_search_match(query,df,k):\n",
    "    result = []\n",
    "    query = ntlk_analysis(query)\n",
    "    query_tfidf = {vocabulary[term]: Counter(query)[term]*idf[term]/len(query) for term in query}\n",
    "    match = {vocabulary[term]: [] for term in query}\n",
    "\n",
    "    for key, list_of_tuples in tfidf_inverted_index.items():\n",
    "        if key in match.keys():\n",
    "            for tuple in list_of_tuples:\n",
    "                match[key].append(tuple[0])\n",
    "    \n",
    "    intersec = set.intersection(*map(set,list(match.values())))\n",
    "    \n",
    "    k_nearest = []\n",
    "    for index in intersec:\n",
    "        vec = []\n",
    "        for id in match.keys():\n",
    "            for tuple in tfidf_inverted_index[id]:\n",
    "                if tuple[0] == index:\n",
    "                    vec.append(tuple[1])\n",
    "        k_nearest.append((index, cosine_similarity(vec, list(query_tfidf.values()))))\n",
    "\n",
    "    heapq.heapify(k_nearest) \n",
    "    k_nearest = (heapq.nlargest(n = k, iterable = k_nearest, key = lambda x:x[1])) \n",
    "\n",
    "    for idx,score in k_nearest:\n",
    "        series = df[['placeName', 'placeDesc','placeURL']].loc[idx]\n",
    "        series['cosineSimilarity'] = score\n",
    "        result.append(series)\n",
    "    \n",
    "    return pd.DataFrame(result)\n",
    "                        \n",
    "    \n"
   ]
  },
  {
   "cell_type": "code",
   "execution_count": 24,
   "id": "87c8482d",
   "metadata": {},
   "outputs": [
    {
     "data": {
      "text/html": [
       "<div>\n",
       "<style scoped>\n",
       "    .dataframe tbody tr th:only-of-type {\n",
       "        vertical-align: middle;\n",
       "    }\n",
       "\n",
       "    .dataframe tbody tr th {\n",
       "        vertical-align: top;\n",
       "    }\n",
       "\n",
       "    .dataframe thead th {\n",
       "        text-align: right;\n",
       "    }\n",
       "</style>\n",
       "<table border=\"1\" class=\"dataframe\">\n",
       "  <thead>\n",
       "    <tr style=\"text-align: right;\">\n",
       "      <th></th>\n",
       "      <th>placeName</th>\n",
       "      <th>placeDesc</th>\n",
       "      <th>placeURL</th>\n",
       "      <th>cosineSimilarity</th>\n",
       "    </tr>\n",
       "  </thead>\n",
       "  <tbody>\n",
       "    <tr>\n",
       "      <th>1636</th>\n",
       "      <td>Drayton Hall</td>\n",
       "      <td>Considered one of the most beautiful examples ...</td>\n",
       "      <td>https://www.atlasobscura.com/places/drayton-hall</td>\n",
       "      <td>1.000000</td>\n",
       "    </tr>\n",
       "    <tr>\n",
       "      <th>5367</th>\n",
       "      <td>Sir Richard Burton's Tent-Tomb</td>\n",
       "      <td>In the quiet churchyard of St. Mary Magdalen’s...</td>\n",
       "      <td>https://www.atlasobscura.com/places/sir-richar...</td>\n",
       "      <td>1.000000</td>\n",
       "    </tr>\n",
       "    <tr>\n",
       "      <th>2504</th>\n",
       "      <td>Hammond Castle Museum</td>\n",
       "      <td>John Hayes Hammond Jr. was a resourceful man. ...</td>\n",
       "      <td>https://www.atlasobscura.com/places/hammond-ca...</td>\n",
       "      <td>1.000000</td>\n",
       "    </tr>\n",
       "    <tr>\n",
       "      <th>705</th>\n",
       "      <td>Boulders Beach Penguin Sanctuary</td>\n",
       "      <td>One of the only remaining homes to the rare Af...</td>\n",
       "      <td>https://www.atlasobscura.com/places/boulders-b...</td>\n",
       "      <td>0.977688</td>\n",
       "    </tr>\n",
       "    <tr>\n",
       "      <th>1044</th>\n",
       "      <td>Caves of Hercules</td>\n",
       "      <td>Along the most northwestern tip of the African...</td>\n",
       "      <td>https://www.atlasobscura.com/places/caves-of-h...</td>\n",
       "      <td>0.964642</td>\n",
       "    </tr>\n",
       "  </tbody>\n",
       "</table>\n",
       "</div>"
      ],
      "text/plain": [
       "                             placeName  \\\n",
       "1636                      Drayton Hall   \n",
       "5367   Sir Richard Burton's Tent-Tomb    \n",
       "2504             Hammond Castle Museum   \n",
       "705   Boulders Beach Penguin Sanctuary   \n",
       "1044                 Caves of Hercules   \n",
       "\n",
       "                                              placeDesc  \\\n",
       "1636  Considered one of the most beautiful examples ...   \n",
       "5367  In the quiet churchyard of St. Mary Magdalen’s...   \n",
       "2504  John Hayes Hammond Jr. was a resourceful man. ...   \n",
       "705   One of the only remaining homes to the rare Af...   \n",
       "1044  Along the most northwestern tip of the African...   \n",
       "\n",
       "                                               placeURL  cosineSimilarity  \n",
       "1636   https://www.atlasobscura.com/places/drayton-hall          1.000000  \n",
       "5367  https://www.atlasobscura.com/places/sir-richar...          1.000000  \n",
       "2504  https://www.atlasobscura.com/places/hammond-ca...          1.000000  \n",
       "705   https://www.atlasobscura.com/places/boulders-b...          0.977688  \n",
       "1044  https://www.atlasobscura.com/places/caves-of-h...          0.964642  "
      ]
     },
     "execution_count": 24,
     "metadata": {},
     "output_type": "execute_result"
    }
   ],
   "source": [
    "tfidf_search_match('african garden', mostPopularPlaces,5)"
   ]
  },
  {
   "cell_type": "markdown",
   "id": "7a2c19a6",
   "metadata": {},
   "source": [
    "# 3. Define a new score!\n"
   ]
  },
  {
   "cell_type": "code",
   "execution_count": 25,
   "id": "ae208a8b",
   "metadata": {},
   "outputs": [],
   "source": [
    "mean1 = round(mostPopularPlaces['numPeopleVisited'].mean(),2)\n",
    "mean2 = round(mostPopularPlaces['numPeopleWant'].mean(), 2)"
   ]
  },
  {
   "cell_type": "code",
   "execution_count": 26,
   "id": "0e0dd3bb",
   "metadata": {},
   "outputs": [
    {
     "name": "stdout",
     "output_type": "stream",
     "text": [
      "417.14 910.36\n"
     ]
    }
   ],
   "source": [
    "print(mean1, mean2)"
   ]
  },
  {
   "cell_type": "code",
   "execution_count": 27,
   "id": "35f8e4ef",
   "metadata": {},
   "outputs": [],
   "source": [
    "def new_score_popularity(query, df, mean1, mean2, k):\n",
    "    result = []\n",
    "    query = ntlk_analysis(query)\n",
    "    match = {vocabulary[term]: [] for term in query}\n",
    "\n",
    "    for key,list_of_values in inverted_index.items():\n",
    "        if key in match:\n",
    "            for value in list_of_values:\n",
    "                if value not in match[key]:\n",
    "                    match[key].append(value)\n",
    "\n",
    "\n",
    "    final_values = list(match.values())\n",
    "    intersection = set.intersection(*map(set,final_values))\n",
    "\n",
    "    rank = []\n",
    "    score = 0\n",
    "    for idx in intersection:\n",
    "        score = int(df.loc[idx]['numPeopleVisited'] > mean1) + int(df.loc[idx]['numPeopleWant'] > mean2)\n",
    "        rank.append((idx,score))\n",
    "        \n",
    "    heapq.heapify(rank) \n",
    "    rank = (heapq.nlargest(n = k, iterable = rank, key = lambda x:x[1])) \n",
    "\n",
    "    for idx,score in rank:\n",
    "        series = df[['placeName', 'placeDesc','placeURL']].loc[idx]\n",
    "        series['newScore'] = score\n",
    "        result.append(series)\n",
    "    \n",
    "    return pd.DataFrame(result)\n",
    "    "
   ]
  },
  {
   "cell_type": "code",
   "execution_count": 28,
   "id": "f968166a",
   "metadata": {},
   "outputs": [
    {
     "data": {
      "text/html": [
       "<div>\n",
       "<style scoped>\n",
       "    .dataframe tbody tr th:only-of-type {\n",
       "        vertical-align: middle;\n",
       "    }\n",
       "\n",
       "    .dataframe tbody tr th {\n",
       "        vertical-align: top;\n",
       "    }\n",
       "\n",
       "    .dataframe thead th {\n",
       "        text-align: right;\n",
       "    }\n",
       "</style>\n",
       "<table border=\"1\" class=\"dataframe\">\n",
       "  <thead>\n",
       "    <tr style=\"text-align: right;\">\n",
       "      <th></th>\n",
       "      <th>placeName</th>\n",
       "      <th>placeDesc</th>\n",
       "      <th>placeURL</th>\n",
       "      <th>newScore</th>\n",
       "    </tr>\n",
       "  </thead>\n",
       "  <tbody>\n",
       "    <tr>\n",
       "      <th>33</th>\n",
       "      <td>A Christmas Story House and Museum</td>\n",
       "      <td>For many Americans, the 1983 film A Christmas ...</td>\n",
       "      <td>https://www.atlasobscura.com/places/a-christma...</td>\n",
       "      <td>2</td>\n",
       "    </tr>\n",
       "    <tr>\n",
       "      <th>392</th>\n",
       "      <td>Baldwin's Book Barn</td>\n",
       "      <td>There are places where history takes longer to...</td>\n",
       "      <td>https://www.atlasobscura.com/places/baldwins-b...</td>\n",
       "      <td>2</td>\n",
       "    </tr>\n",
       "    <tr>\n",
       "      <th>193</th>\n",
       "      <td>American Classic Arcade Museum</td>\n",
       "      <td>Housed inside New Hampshire’s Funspot, which h...</td>\n",
       "      <td>https://www.atlasobscura.com/places/american-c...</td>\n",
       "      <td>2</td>\n",
       "    </tr>\n",
       "    <tr>\n",
       "      <th>634</th>\n",
       "      <td>Blue Mustang</td>\n",
       "      <td>The “Blue Mustang” sculpture was created by th...</td>\n",
       "      <td>https://www.atlasobscura.com/places/blue-mustang</td>\n",
       "      <td>2</td>\n",
       "    </tr>\n",
       "    <tr>\n",
       "      <th>1051</th>\n",
       "      <td>CDC Museum</td>\n",
       "      <td>In the 1995 hit film Outbreak, residents of th...</td>\n",
       "      <td>https://www.atlasobscura.com/places/cdc-museum</td>\n",
       "      <td>2</td>\n",
       "    </tr>\n",
       "    <tr>\n",
       "      <th>1362</th>\n",
       "      <td>Crazy Horse Memorial</td>\n",
       "      <td>When the carving of Mount Rushmore began in 19...</td>\n",
       "      <td>https://www.atlasobscura.com/places/crazy-hors...</td>\n",
       "      <td>2</td>\n",
       "    </tr>\n",
       "    <tr>\n",
       "      <th>2723</th>\n",
       "      <td>Horniman Museum and Gardens</td>\n",
       "      <td>London’s Horniman Museum has been showing off ...</td>\n",
       "      <td>https://www.atlasobscura.com/places/horniman-m...</td>\n",
       "      <td>2</td>\n",
       "    </tr>\n",
       "    <tr>\n",
       "      <th>924</th>\n",
       "      <td>Canyons of the Ancients</td>\n",
       "      <td>Ripe for quiet reflection and simply awe-inspi...</td>\n",
       "      <td>https://www.atlasobscura.com/places/canyons-of...</td>\n",
       "      <td>2</td>\n",
       "    </tr>\n",
       "    <tr>\n",
       "      <th>1972</th>\n",
       "      <td>Flushing Meadows-Corona Park</td>\n",
       "      <td>After a long ride from Manhattan, most get off...</td>\n",
       "      <td>https://www.atlasobscura.com/places/flushing-m...</td>\n",
       "      <td>2</td>\n",
       "    </tr>\n",
       "    <tr>\n",
       "      <th>586</th>\n",
       "      <td>Biosphere of Montreal</td>\n",
       "      <td>As their contribution to Montreal’s 1967 World...</td>\n",
       "      <td>https://www.atlasobscura.com/places/biosphere-...</td>\n",
       "      <td>2</td>\n",
       "    </tr>\n",
       "  </tbody>\n",
       "</table>\n",
       "</div>"
      ],
      "text/plain": [
       "                               placeName  \\\n",
       "33    A Christmas Story House and Museum   \n",
       "392                  Baldwin's Book Barn   \n",
       "193       American Classic Arcade Museum   \n",
       "634                         Blue Mustang   \n",
       "1051                          CDC Museum   \n",
       "1362                Crazy Horse Memorial   \n",
       "2723         Horniman Museum and Gardens   \n",
       "924              Canyons of the Ancients   \n",
       "1972        Flushing Meadows-Corona Park   \n",
       "586                Biosphere of Montreal   \n",
       "\n",
       "                                              placeDesc  \\\n",
       "33    For many Americans, the 1983 film A Christmas ...   \n",
       "392   There are places where history takes longer to...   \n",
       "193   Housed inside New Hampshire’s Funspot, which h...   \n",
       "634   The “Blue Mustang” sculpture was created by th...   \n",
       "1051  In the 1995 hit film Outbreak, residents of th...   \n",
       "1362  When the carving of Mount Rushmore began in 19...   \n",
       "2723  London’s Horniman Museum has been showing off ...   \n",
       "924   Ripe for quiet reflection and simply awe-inspi...   \n",
       "1972  After a long ride from Manhattan, most get off...   \n",
       "586   As their contribution to Montreal’s 1967 World...   \n",
       "\n",
       "                                               placeURL  newScore  \n",
       "33    https://www.atlasobscura.com/places/a-christma...         2  \n",
       "392   https://www.atlasobscura.com/places/baldwins-b...         2  \n",
       "193   https://www.atlasobscura.com/places/american-c...         2  \n",
       "634    https://www.atlasobscura.com/places/blue-mustang         2  \n",
       "1051     https://www.atlasobscura.com/places/cdc-museum         2  \n",
       "1362  https://www.atlasobscura.com/places/crazy-hors...         2  \n",
       "2723  https://www.atlasobscura.com/places/horniman-m...         2  \n",
       "924   https://www.atlasobscura.com/places/canyons-of...         2  \n",
       "1972  https://www.atlasobscura.com/places/flushing-m...         2  \n",
       "586   https://www.atlasobscura.com/places/biosphere-...         2  "
      ]
     },
     "execution_count": 28,
     "metadata": {},
     "output_type": "execute_result"
    }
   ],
   "source": [
    "second_search_engine = new_score_popularity('american museum', mostPopularPlaces, mean1, mean2, 10)\n",
    "second_search_engine"
   ]
  },
  {
   "cell_type": "code",
   "execution_count": 29,
   "id": "bca79a31",
   "metadata": {},
   "outputs": [],
   "source": [
    "def new_score_jaccard(query, df, k):\n",
    "    result = []\n",
    "    query = ntlk_analysis(query)\n",
    "    match = {vocabulary[term]: [] for term in query}\n",
    "\n",
    "    for key,list_of_values in inverted_index.items():\n",
    "        if key in match:\n",
    "            for value in list_of_values:\n",
    "                if value not in match[key]:\n",
    "                    match[key].append(value)\n",
    "\n",
    "\n",
    "    final_values = list(match.values())\n",
    "    intersection = set.intersection(*map(set,final_values))\n",
    "\n",
    "    rank = []\n",
    "    score = 0\n",
    "    for idx in intersection:\n",
    "        if type(df.loc[idx]['placeTags']) == str:\n",
    "            tags = ntlk_analysis(df.loc[idx]['placeTags'])\n",
    "            jaccard_idx = len(set(tags).intersection(query))/len(set(tags).union(query))\n",
    "            rank.append((idx,jaccard_idx))\n",
    "        else:\n",
    "            rank.append((idx, -1))\n",
    "        \n",
    "    #rank.sort(key = lambda x:x[1], reverse = True)\n",
    "    heapq.heapify(rank) \n",
    "    rank = (heapq.nlargest(n = k, iterable = rank, key = lambda x:x[1])) \n",
    "\n",
    "    for idx,score in rank:\n",
    "        series = df[['placeName', 'placeDesc','placeURL']].loc[idx]\n",
    "        series['newScore'] = score\n",
    "        result.append(series)\n",
    "    \n",
    "    return pd.DataFrame(result)"
   ]
  },
  {
   "cell_type": "code",
   "execution_count": 30,
   "id": "ae19c7d1",
   "metadata": {},
   "outputs": [
    {
     "data": {
      "text/html": [
       "<div>\n",
       "<style scoped>\n",
       "    .dataframe tbody tr th:only-of-type {\n",
       "        vertical-align: middle;\n",
       "    }\n",
       "\n",
       "    .dataframe tbody tr th {\n",
       "        vertical-align: top;\n",
       "    }\n",
       "\n",
       "    .dataframe thead th {\n",
       "        text-align: right;\n",
       "    }\n",
       "</style>\n",
       "<table border=\"1\" class=\"dataframe\">\n",
       "  <thead>\n",
       "    <tr style=\"text-align: right;\">\n",
       "      <th></th>\n",
       "      <th>placeName</th>\n",
       "      <th>placeDesc</th>\n",
       "      <th>placeURL</th>\n",
       "      <th>newScore</th>\n",
       "    </tr>\n",
       "  </thead>\n",
       "  <tbody>\n",
       "    <tr>\n",
       "      <th>1701</th>\n",
       "      <td>East Kong Yick Building at the Wing Luke Museum</td>\n",
       "      <td>In 1910, 170 early Chinese pioneers pooled the...</td>\n",
       "      <td>https://www.atlasobscura.com/places/east-kong-...</td>\n",
       "      <td>0.500000</td>\n",
       "    </tr>\n",
       "    <tr>\n",
       "      <th>4142</th>\n",
       "      <td>National World War II Museum</td>\n",
       "      <td>Perhaps once thought too narrowly focused, th...</td>\n",
       "      <td>https://www.atlasobscura.com/places/national-w...</td>\n",
       "      <td>0.333333</td>\n",
       "    </tr>\n",
       "    <tr>\n",
       "      <th>4979</th>\n",
       "      <td>Rock Art Ranch</td>\n",
       "      <td>Rock Art Ranch, near Winslow, Arizona, is a pr...</td>\n",
       "      <td>https://www.atlasobscura.com/places/rock-art-r...</td>\n",
       "      <td>0.333333</td>\n",
       "    </tr>\n",
       "    <tr>\n",
       "      <th>3528</th>\n",
       "      <td>Lunch Box Museum</td>\n",
       "      <td>Lunch boxes bring back a certain sense of nost...</td>\n",
       "      <td>https://www.atlasobscura.com/places/lunch-box-...</td>\n",
       "      <td>0.333333</td>\n",
       "    </tr>\n",
       "    <tr>\n",
       "      <th>3734</th>\n",
       "      <td>Metropolitan Pit Stop</td>\n",
       "      <td>Metropolitan Pit Stop was founded by Jimmy Val...</td>\n",
       "      <td>https://www.atlasobscura.com/places/metropolit...</td>\n",
       "      <td>0.333333</td>\n",
       "    </tr>\n",
       "    <tr>\n",
       "      <th>3990</th>\n",
       "      <td>Museum of the American Cocktail</td>\n",
       "      <td>They say that New Orleans is the home of the f...</td>\n",
       "      <td>https://www.atlasobscura.com/places/museum-ame...</td>\n",
       "      <td>0.333333</td>\n",
       "    </tr>\n",
       "    <tr>\n",
       "      <th>3807</th>\n",
       "      <td>Mitsitam Native Foods Cafe</td>\n",
       "      <td>A visit to the National Mall in Washington, D....</td>\n",
       "      <td>https://www.atlasobscura.com/places/mitsitam-n...</td>\n",
       "      <td>0.333333</td>\n",
       "    </tr>\n",
       "    <tr>\n",
       "      <th>2548</th>\n",
       "      <td>Harvard Museum of Natural History</td>\n",
       "      <td>Collecting three different institutions into o...</td>\n",
       "      <td>https://www.atlasobscura.com/places/harvard-mu...</td>\n",
       "      <td>0.333333</td>\n",
       "    </tr>\n",
       "    <tr>\n",
       "      <th>1636</th>\n",
       "      <td>Drayton Hall</td>\n",
       "      <td>Considered one of the most beautiful examples ...</td>\n",
       "      <td>https://www.atlasobscura.com/places/drayton-hall</td>\n",
       "      <td>0.285714</td>\n",
       "    </tr>\n",
       "    <tr>\n",
       "      <th>2791</th>\n",
       "      <td>Hugh Mercer Apothecary Shop</td>\n",
       "      <td>Hugh Mercer was a Scot, a warrior, a friend of...</td>\n",
       "      <td>https://www.atlasobscura.com/places/hugh-merce...</td>\n",
       "      <td>0.285714</td>\n",
       "    </tr>\n",
       "  </tbody>\n",
       "</table>\n",
       "</div>"
      ],
      "text/plain": [
       "                                            placeName  \\\n",
       "1701  East Kong Yick Building at the Wing Luke Museum   \n",
       "4142                     National World War II Museum   \n",
       "4979                                   Rock Art Ranch   \n",
       "3528                                 Lunch Box Museum   \n",
       "3734                            Metropolitan Pit Stop   \n",
       "3990                  Museum of the American Cocktail   \n",
       "3807                       Mitsitam Native Foods Cafe   \n",
       "2548                Harvard Museum of Natural History   \n",
       "1636                                     Drayton Hall   \n",
       "2791                      Hugh Mercer Apothecary Shop   \n",
       "\n",
       "                                              placeDesc  \\\n",
       "1701  In 1910, 170 early Chinese pioneers pooled the...   \n",
       "4142   Perhaps once thought too narrowly focused, th...   \n",
       "4979  Rock Art Ranch, near Winslow, Arizona, is a pr...   \n",
       "3528  Lunch boxes bring back a certain sense of nost...   \n",
       "3734  Metropolitan Pit Stop was founded by Jimmy Val...   \n",
       "3990  They say that New Orleans is the home of the f...   \n",
       "3807  A visit to the National Mall in Washington, D....   \n",
       "2548  Collecting three different institutions into o...   \n",
       "1636  Considered one of the most beautiful examples ...   \n",
       "2791  Hugh Mercer was a Scot, a warrior, a friend of...   \n",
       "\n",
       "                                               placeURL  newScore  \n",
       "1701  https://www.atlasobscura.com/places/east-kong-...  0.500000  \n",
       "4142  https://www.atlasobscura.com/places/national-w...  0.333333  \n",
       "4979  https://www.atlasobscura.com/places/rock-art-r...  0.333333  \n",
       "3528  https://www.atlasobscura.com/places/lunch-box-...  0.333333  \n",
       "3734  https://www.atlasobscura.com/places/metropolit...  0.333333  \n",
       "3990  https://www.atlasobscura.com/places/museum-ame...  0.333333  \n",
       "3807  https://www.atlasobscura.com/places/mitsitam-n...  0.333333  \n",
       "2548  https://www.atlasobscura.com/places/harvard-mu...  0.333333  \n",
       "1636   https://www.atlasobscura.com/places/drayton-hall  0.285714  \n",
       "2791  https://www.atlasobscura.com/places/hugh-merce...  0.285714  "
      ]
     },
     "execution_count": 30,
     "metadata": {},
     "output_type": "execute_result"
    }
   ],
   "source": [
    "third_search_engine = new_score_jaccard('american museum', mostPopularPlaces,10)\n",
    "third_search_engine"
   ]
  },
  {
   "cell_type": "markdown",
   "id": "9ab6b6fe",
   "metadata": {},
   "source": [
    "# 4. Visualizing the most relevant places"
   ]
  },
  {
   "cell_type": "code",
   "execution_count": 31,
   "id": "d22a7b19",
   "metadata": {},
   "outputs": [],
   "source": [
    "import spacy\n",
    "spacy.load('en_core_web_sm')\n",
    "import nltk"
   ]
  },
  {
   "cell_type": "code",
   "execution_count": 205,
   "id": "a693e0ac",
   "metadata": {},
   "outputs": [],
   "source": [
    "df2=new_score_popularity('historical castle', mostPopularPlaces, mean1, mean2, 10)\n",
    "df=pd.merge(df2,mostPopularPlaces, on='placeName')\n",
    "\n",
    "#Taking only columns we are interested in\n",
    "df=df[['placeName','numPeopleVisited','numPeopleWant','placeAddress','placeAlt','placeLong','newScore']]"
   ]
  },
  {
   "cell_type": "code",
   "execution_count": 206,
   "id": "b388990e",
   "metadata": {},
   "outputs": [],
   "source": [
    "#Taking out Country and address\n",
    "df['Country'] = df.placeAddress.apply(lambda ad: locationtagger.find_locations(text = ad).countries)\n",
    "df['Address'] = df.placeAddress.apply(lambda ad: ad.split(',')[0])"
   ]
  },
  {
   "cell_type": "code",
   "execution_count": 207,
   "id": "aecf06c3",
   "metadata": {},
   "outputs": [],
   "source": [
    "#Converting Lat and Long in float\n",
    "df['placeAlt']=df.placeAlt.apply(lambda p: float(p))\n",
    "df['placeLong']=df.placeLong.apply(lambda p: float(p))"
   ]
  },
  {
   "cell_type": "code",
   "execution_count": 208,
   "id": "8e360b4b",
   "metadata": {},
   "outputs": [
    {
     "data": {
      "text/html": [
       "<div>\n",
       "<style scoped>\n",
       "    .dataframe tbody tr th:only-of-type {\n",
       "        vertical-align: middle;\n",
       "    }\n",
       "\n",
       "    .dataframe tbody tr th {\n",
       "        vertical-align: top;\n",
       "    }\n",
       "\n",
       "    .dataframe thead th {\n",
       "        text-align: right;\n",
       "    }\n",
       "</style>\n",
       "<table border=\"1\" class=\"dataframe\">\n",
       "  <thead>\n",
       "    <tr style=\"text-align: right;\">\n",
       "      <th></th>\n",
       "      <th>placeName</th>\n",
       "      <th>numPeopleVisited</th>\n",
       "      <th>numPeopleWant</th>\n",
       "      <th>placeAddress</th>\n",
       "      <th>placeAlt</th>\n",
       "      <th>placeLong</th>\n",
       "      <th>newScore</th>\n",
       "      <th>Country</th>\n",
       "      <th>Address</th>\n",
       "    </tr>\n",
       "  </thead>\n",
       "  <tbody>\n",
       "    <tr>\n",
       "      <th>0</th>\n",
       "      <td>Bannerman's Castle</td>\n",
       "      <td>418</td>\n",
       "      <td>1961</td>\n",
       "      <td>90 Front St Beacon, New York, 12508 United St...</td>\n",
       "      <td>41.4553</td>\n",
       "      <td>-73.9889</td>\n",
       "      <td>2</td>\n",
       "      <td>[United States]</td>\n",
       "      <td>90 Front St Beacon</td>\n",
       "    </tr>\n",
       "    <tr>\n",
       "      <th>1</th>\n",
       "      <td>Kansas City Workhouse</td>\n",
       "      <td>494</td>\n",
       "      <td>1419</td>\n",
       "      <td>Vine Street and East 21st Street Kansas City,...</td>\n",
       "      <td>39.0871</td>\n",
       "      <td>-94.5635</td>\n",
       "      <td>2</td>\n",
       "      <td>[United States]</td>\n",
       "      <td>Vine Street and East 21st Street Kansas City</td>\n",
       "    </tr>\n",
       "    <tr>\n",
       "      <th>2</th>\n",
       "      <td>Hammond Castle Museum</td>\n",
       "      <td>728</td>\n",
       "      <td>1615</td>\n",
       "      <td>80 Hesperus Avenue Gloucester, Massachusetts,...</td>\n",
       "      <td>42.5860</td>\n",
       "      <td>-70.6926</td>\n",
       "      <td>2</td>\n",
       "      <td>[United States]</td>\n",
       "      <td>80 Hesperus Avenue Gloucester</td>\n",
       "    </tr>\n",
       "    <tr>\n",
       "      <th>3</th>\n",
       "      <td>Panoptikum Budapest</td>\n",
       "      <td>573</td>\n",
       "      <td>1551</td>\n",
       "      <td>9 Úri u. Budapest, 1014 Hungary</td>\n",
       "      <td>47.5001</td>\n",
       "      <td>19.0341</td>\n",
       "      <td>2</td>\n",
       "      <td>[Hungary]</td>\n",
       "      <td>9 Úri u. Budapest</td>\n",
       "    </tr>\n",
       "    <tr>\n",
       "      <th>4</th>\n",
       "      <td>Tintagel Castle</td>\n",
       "      <td>858</td>\n",
       "      <td>1515</td>\n",
       "      <td>Bossiney Road Tintagel, England, PL34 0DQ Uni...</td>\n",
       "      <td>50.6682</td>\n",
       "      <td>-4.7597</td>\n",
       "      <td>2</td>\n",
       "      <td>[United Kingdom]</td>\n",
       "      <td>Bossiney Road Tintagel</td>\n",
       "    </tr>\n",
       "    <tr>\n",
       "      <th>5</th>\n",
       "      <td>Rosslyn Chapel</td>\n",
       "      <td>725</td>\n",
       "      <td>1233</td>\n",
       "      <td>Chapel Loan Roslin, Scotland, EH25 9PT United...</td>\n",
       "      <td>55.8561</td>\n",
       "      <td>-3.1591</td>\n",
       "      <td>2</td>\n",
       "      <td>[United Kingdom]</td>\n",
       "      <td>Chapel Loan Roslin</td>\n",
       "    </tr>\n",
       "    <tr>\n",
       "      <th>6</th>\n",
       "      <td>The Witchery</td>\n",
       "      <td>615</td>\n",
       "      <td>1552</td>\n",
       "      <td>352 Castlehill Edinburgh, Scotland United Kin...</td>\n",
       "      <td>55.9488</td>\n",
       "      <td>-3.1956</td>\n",
       "      <td>2</td>\n",
       "      <td>[United Kingdom]</td>\n",
       "      <td>352 Castlehill Edinburgh</td>\n",
       "    </tr>\n",
       "    <tr>\n",
       "      <th>7</th>\n",
       "      <td>Vajdahunyad Castle</td>\n",
       "      <td>998</td>\n",
       "      <td>1409</td>\n",
       "      <td>Vajdahunyad stny. Budapest, 1146 Hungary</td>\n",
       "      <td>47.5150</td>\n",
       "      <td>19.0833</td>\n",
       "      <td>2</td>\n",
       "      <td>[Hungary]</td>\n",
       "      <td>Vajdahunyad stny. Budapest</td>\n",
       "    </tr>\n",
       "    <tr>\n",
       "      <th>8</th>\n",
       "      <td>Ruins of Whitby Abbey</td>\n",
       "      <td>983</td>\n",
       "      <td>1380</td>\n",
       "      <td>Whitby, England, YO22 4DR United Kingdom</td>\n",
       "      <td>54.4886</td>\n",
       "      <td>-0.6074</td>\n",
       "      <td>2</td>\n",
       "      <td>[United Kingdom]</td>\n",
       "      <td>Whitby</td>\n",
       "    </tr>\n",
       "    <tr>\n",
       "      <th>9</th>\n",
       "      <td>Ohio State Reformatory</td>\n",
       "      <td>832</td>\n",
       "      <td>1455</td>\n",
       "      <td>Mansfield, Ohio, 44905 United States</td>\n",
       "      <td>40.7837</td>\n",
       "      <td>-82.5028</td>\n",
       "      <td>2</td>\n",
       "      <td>[United States]</td>\n",
       "      <td>Mansfield</td>\n",
       "    </tr>\n",
       "  </tbody>\n",
       "</table>\n",
       "</div>"
      ],
      "text/plain": [
       "                placeName  numPeopleVisited  numPeopleWant  \\\n",
       "0      Bannerman's Castle               418           1961   \n",
       "1   Kansas City Workhouse               494           1419   \n",
       "2   Hammond Castle Museum               728           1615   \n",
       "3     Panoptikum Budapest               573           1551   \n",
       "4         Tintagel Castle               858           1515   \n",
       "5          Rosslyn Chapel               725           1233   \n",
       "6            The Witchery               615           1552   \n",
       "7      Vajdahunyad Castle               998           1409   \n",
       "8   Ruins of Whitby Abbey               983           1380   \n",
       "9  Ohio State Reformatory               832           1455   \n",
       "\n",
       "                                        placeAddress  placeAlt  placeLong  \\\n",
       "0   90 Front St Beacon, New York, 12508 United St...   41.4553   -73.9889   \n",
       "1   Vine Street and East 21st Street Kansas City,...   39.0871   -94.5635   \n",
       "2   80 Hesperus Avenue Gloucester, Massachusetts,...   42.5860   -70.6926   \n",
       "3                    9 Úri u. Budapest, 1014 Hungary   47.5001    19.0341   \n",
       "4   Bossiney Road Tintagel, England, PL34 0DQ Uni...   50.6682    -4.7597   \n",
       "5   Chapel Loan Roslin, Scotland, EH25 9PT United...   55.8561    -3.1591   \n",
       "6   352 Castlehill Edinburgh, Scotland United Kin...   55.9488    -3.1956   \n",
       "7           Vajdahunyad stny. Budapest, 1146 Hungary   47.5150    19.0833   \n",
       "8           Whitby, England, YO22 4DR United Kingdom   54.4886    -0.6074   \n",
       "9               Mansfield, Ohio, 44905 United States   40.7837   -82.5028   \n",
       "\n",
       "   newScore           Country                                        Address  \n",
       "0         2   [United States]                             90 Front St Beacon  \n",
       "1         2   [United States]   Vine Street and East 21st Street Kansas City  \n",
       "2         2   [United States]                  80 Hesperus Avenue Gloucester  \n",
       "3         2         [Hungary]                              9 Úri u. Budapest  \n",
       "4         2  [United Kingdom]                         Bossiney Road Tintagel  \n",
       "5         2  [United Kingdom]                             Chapel Loan Roslin  \n",
       "6         2  [United Kingdom]                       352 Castlehill Edinburgh  \n",
       "7         2         [Hungary]                     Vajdahunyad stny. Budapest  \n",
       "8         2  [United Kingdom]                                         Whitby  \n",
       "9         2   [United States]                                      Mansfield  "
      ]
     },
     "execution_count": 208,
     "metadata": {},
     "output_type": "execute_result"
    }
   ],
   "source": [
    "df"
   ]
  },
  {
   "cell_type": "code",
   "execution_count": 209,
   "id": "ccbb8546",
   "metadata": {},
   "outputs": [
    {
     "data": {
      "application/vnd.plotly.v1+json": {
       "config": {
        "plotlyServerURL": "https://plot.ly"
       },
       "data": [
        {
         "customdata": [
          [
           "Bannerman's Castle",
           " 90 Front St Beacon",
           [
            "United States"
           ],
           418
          ]
         ],
         "hovertemplate": "<b>%{hovertext}</b><br><br>Name=%{customdata[0]}<br>Latitude=%{lat}<br>Longitude=%{lon}<br>Address=%{customdata[1]}<br>Country=%{customdata[2]}<br>Number of people who visited=%{customdata[3]}<extra></extra>",
         "hovertext": [
          "Bannerman's Castle"
         ],
         "lat": [
          41.4553
         ],
         "legendgroup": "Bannerman's Castle",
         "lon": [
          -73.9889
         ],
         "marker": {
          "color": "#636efa"
         },
         "mode": "markers",
         "name": "Bannerman's Castle",
         "showlegend": true,
         "subplot": "mapbox",
         "type": "scattermapbox"
        },
        {
         "customdata": [
          [
           "Kansas City Workhouse",
           " Vine Street and East 21st Street Kansas City",
           [
            "United States"
           ],
           494
          ]
         ],
         "hovertemplate": "<b>%{hovertext}</b><br><br>Name=%{customdata[0]}<br>Latitude=%{lat}<br>Longitude=%{lon}<br>Address=%{customdata[1]}<br>Country=%{customdata[2]}<br>Number of people who visited=%{customdata[3]}<extra></extra>",
         "hovertext": [
          "Kansas City Workhouse"
         ],
         "lat": [
          39.0871
         ],
         "legendgroup": "Kansas City Workhouse",
         "lon": [
          -94.5635
         ],
         "marker": {
          "color": "#EF553B"
         },
         "mode": "markers",
         "name": "Kansas City Workhouse",
         "showlegend": true,
         "subplot": "mapbox",
         "type": "scattermapbox"
        },
        {
         "customdata": [
          [
           "Hammond Castle Museum",
           " 80 Hesperus Avenue Gloucester",
           [
            "United States"
           ],
           728
          ]
         ],
         "hovertemplate": "<b>%{hovertext}</b><br><br>Name=%{customdata[0]}<br>Latitude=%{lat}<br>Longitude=%{lon}<br>Address=%{customdata[1]}<br>Country=%{customdata[2]}<br>Number of people who visited=%{customdata[3]}<extra></extra>",
         "hovertext": [
          "Hammond Castle Museum"
         ],
         "lat": [
          42.586
         ],
         "legendgroup": "Hammond Castle Museum",
         "lon": [
          -70.6926
         ],
         "marker": {
          "color": "#00cc96"
         },
         "mode": "markers",
         "name": "Hammond Castle Museum",
         "showlegend": true,
         "subplot": "mapbox",
         "type": "scattermapbox"
        },
        {
         "customdata": [
          [
           "Panoptikum Budapest",
           " 9 Úri u. Budapest",
           [
            "Hungary"
           ],
           573
          ]
         ],
         "hovertemplate": "<b>%{hovertext}</b><br><br>Name=%{customdata[0]}<br>Latitude=%{lat}<br>Longitude=%{lon}<br>Address=%{customdata[1]}<br>Country=%{customdata[2]}<br>Number of people who visited=%{customdata[3]}<extra></extra>",
         "hovertext": [
          "Panoptikum Budapest"
         ],
         "lat": [
          47.5001
         ],
         "legendgroup": "Panoptikum Budapest",
         "lon": [
          19.0341
         ],
         "marker": {
          "color": "#ab63fa"
         },
         "mode": "markers",
         "name": "Panoptikum Budapest",
         "showlegend": true,
         "subplot": "mapbox",
         "type": "scattermapbox"
        },
        {
         "customdata": [
          [
           "Tintagel Castle",
           " Bossiney Road Tintagel",
           [
            "United Kingdom"
           ],
           858
          ]
         ],
         "hovertemplate": "<b>%{hovertext}</b><br><br>Name=%{customdata[0]}<br>Latitude=%{lat}<br>Longitude=%{lon}<br>Address=%{customdata[1]}<br>Country=%{customdata[2]}<br>Number of people who visited=%{customdata[3]}<extra></extra>",
         "hovertext": [
          "Tintagel Castle"
         ],
         "lat": [
          50.6682
         ],
         "legendgroup": "Tintagel Castle",
         "lon": [
          -4.7597
         ],
         "marker": {
          "color": "#FFA15A"
         },
         "mode": "markers",
         "name": "Tintagel Castle",
         "showlegend": true,
         "subplot": "mapbox",
         "type": "scattermapbox"
        },
        {
         "customdata": [
          [
           "Rosslyn Chapel",
           " Chapel Loan Roslin",
           [
            "United Kingdom"
           ],
           725
          ]
         ],
         "hovertemplate": "<b>%{hovertext}</b><br><br>Name=%{customdata[0]}<br>Latitude=%{lat}<br>Longitude=%{lon}<br>Address=%{customdata[1]}<br>Country=%{customdata[2]}<br>Number of people who visited=%{customdata[3]}<extra></extra>",
         "hovertext": [
          "Rosslyn Chapel"
         ],
         "lat": [
          55.8561
         ],
         "legendgroup": "Rosslyn Chapel",
         "lon": [
          -3.1591
         ],
         "marker": {
          "color": "#19d3f3"
         },
         "mode": "markers",
         "name": "Rosslyn Chapel",
         "showlegend": true,
         "subplot": "mapbox",
         "type": "scattermapbox"
        },
        {
         "customdata": [
          [
           "The Witchery",
           " 352 Castlehill Edinburgh",
           [
            "United Kingdom"
           ],
           615
          ]
         ],
         "hovertemplate": "<b>%{hovertext}</b><br><br>Name=%{customdata[0]}<br>Latitude=%{lat}<br>Longitude=%{lon}<br>Address=%{customdata[1]}<br>Country=%{customdata[2]}<br>Number of people who visited=%{customdata[3]}<extra></extra>",
         "hovertext": [
          "The Witchery"
         ],
         "lat": [
          55.9488
         ],
         "legendgroup": "The Witchery",
         "lon": [
          -3.1956
         ],
         "marker": {
          "color": "#FF6692"
         },
         "mode": "markers",
         "name": "The Witchery",
         "showlegend": true,
         "subplot": "mapbox",
         "type": "scattermapbox"
        },
        {
         "customdata": [
          [
           "Vajdahunyad Castle",
           " Vajdahunyad stny. Budapest",
           [
            "Hungary"
           ],
           998
          ]
         ],
         "hovertemplate": "<b>%{hovertext}</b><br><br>Name=%{customdata[0]}<br>Latitude=%{lat}<br>Longitude=%{lon}<br>Address=%{customdata[1]}<br>Country=%{customdata[2]}<br>Number of people who visited=%{customdata[3]}<extra></extra>",
         "hovertext": [
          "Vajdahunyad Castle"
         ],
         "lat": [
          47.515
         ],
         "legendgroup": "Vajdahunyad Castle",
         "lon": [
          19.0833
         ],
         "marker": {
          "color": "#B6E880"
         },
         "mode": "markers",
         "name": "Vajdahunyad Castle",
         "showlegend": true,
         "subplot": "mapbox",
         "type": "scattermapbox"
        },
        {
         "customdata": [
          [
           "Ruins of Whitby Abbey",
           " Whitby",
           [
            "United Kingdom"
           ],
           983
          ]
         ],
         "hovertemplate": "<b>%{hovertext}</b><br><br>Name=%{customdata[0]}<br>Latitude=%{lat}<br>Longitude=%{lon}<br>Address=%{customdata[1]}<br>Country=%{customdata[2]}<br>Number of people who visited=%{customdata[3]}<extra></extra>",
         "hovertext": [
          "Ruins of Whitby Abbey"
         ],
         "lat": [
          54.4886
         ],
         "legendgroup": "Ruins of Whitby Abbey",
         "lon": [
          -0.6074
         ],
         "marker": {
          "color": "#FF97FF"
         },
         "mode": "markers",
         "name": "Ruins of Whitby Abbey",
         "showlegend": true,
         "subplot": "mapbox",
         "type": "scattermapbox"
        },
        {
         "customdata": [
          [
           "Ohio State Reformatory",
           " Mansfield",
           [
            "United States"
           ],
           832
          ]
         ],
         "hovertemplate": "<b>%{hovertext}</b><br><br>Name=%{customdata[0]}<br>Latitude=%{lat}<br>Longitude=%{lon}<br>Address=%{customdata[1]}<br>Country=%{customdata[2]}<br>Number of people who visited=%{customdata[3]}<extra></extra>",
         "hovertext": [
          "Ohio State Reformatory"
         ],
         "lat": [
          40.7837
         ],
         "legendgroup": "Ohio State Reformatory",
         "lon": [
          -82.5028
         ],
         "marker": {
          "color": "#FECB52"
         },
         "mode": "markers",
         "name": "Ohio State Reformatory",
         "showlegend": true,
         "subplot": "mapbox",
         "type": "scattermapbox"
        }
       ],
       "layout": {
        "height": 300,
        "legend": {
         "title": {
          "text": "Name"
         },
         "tracegroupgap": 0
        },
        "mapbox": {
         "center": {
          "lat": 47.58889,
          "lon": -29.535220000000002
         },
         "domain": {
          "x": [
           0,
           1
          ],
          "y": [
           0,
           1
          ]
         },
         "style": "carto-positron",
         "zoom": 3
        },
        "margin": {
         "b": 0,
         "l": 0,
         "r": 0,
         "t": 0
        },
        "template": {
         "data": {
          "bar": [
           {
            "error_x": {
             "color": "#2a3f5f"
            },
            "error_y": {
             "color": "#2a3f5f"
            },
            "marker": {
             "line": {
              "color": "#E5ECF6",
              "width": 0.5
             },
             "pattern": {
              "fillmode": "overlay",
              "size": 10,
              "solidity": 0.2
             }
            },
            "type": "bar"
           }
          ],
          "barpolar": [
           {
            "marker": {
             "line": {
              "color": "#E5ECF6",
              "width": 0.5
             },
             "pattern": {
              "fillmode": "overlay",
              "size": 10,
              "solidity": 0.2
             }
            },
            "type": "barpolar"
           }
          ],
          "carpet": [
           {
            "aaxis": {
             "endlinecolor": "#2a3f5f",
             "gridcolor": "white",
             "linecolor": "white",
             "minorgridcolor": "white",
             "startlinecolor": "#2a3f5f"
            },
            "baxis": {
             "endlinecolor": "#2a3f5f",
             "gridcolor": "white",
             "linecolor": "white",
             "minorgridcolor": "white",
             "startlinecolor": "#2a3f5f"
            },
            "type": "carpet"
           }
          ],
          "choropleth": [
           {
            "colorbar": {
             "outlinewidth": 0,
             "ticks": ""
            },
            "type": "choropleth"
           }
          ],
          "contour": [
           {
            "colorbar": {
             "outlinewidth": 0,
             "ticks": ""
            },
            "colorscale": [
             [
              0,
              "#0d0887"
             ],
             [
              0.1111111111111111,
              "#46039f"
             ],
             [
              0.2222222222222222,
              "#7201a8"
             ],
             [
              0.3333333333333333,
              "#9c179e"
             ],
             [
              0.4444444444444444,
              "#bd3786"
             ],
             [
              0.5555555555555556,
              "#d8576b"
             ],
             [
              0.6666666666666666,
              "#ed7953"
             ],
             [
              0.7777777777777778,
              "#fb9f3a"
             ],
             [
              0.8888888888888888,
              "#fdca26"
             ],
             [
              1,
              "#f0f921"
             ]
            ],
            "type": "contour"
           }
          ],
          "contourcarpet": [
           {
            "colorbar": {
             "outlinewidth": 0,
             "ticks": ""
            },
            "type": "contourcarpet"
           }
          ],
          "heatmap": [
           {
            "colorbar": {
             "outlinewidth": 0,
             "ticks": ""
            },
            "colorscale": [
             [
              0,
              "#0d0887"
             ],
             [
              0.1111111111111111,
              "#46039f"
             ],
             [
              0.2222222222222222,
              "#7201a8"
             ],
             [
              0.3333333333333333,
              "#9c179e"
             ],
             [
              0.4444444444444444,
              "#bd3786"
             ],
             [
              0.5555555555555556,
              "#d8576b"
             ],
             [
              0.6666666666666666,
              "#ed7953"
             ],
             [
              0.7777777777777778,
              "#fb9f3a"
             ],
             [
              0.8888888888888888,
              "#fdca26"
             ],
             [
              1,
              "#f0f921"
             ]
            ],
            "type": "heatmap"
           }
          ],
          "heatmapgl": [
           {
            "colorbar": {
             "outlinewidth": 0,
             "ticks": ""
            },
            "colorscale": [
             [
              0,
              "#0d0887"
             ],
             [
              0.1111111111111111,
              "#46039f"
             ],
             [
              0.2222222222222222,
              "#7201a8"
             ],
             [
              0.3333333333333333,
              "#9c179e"
             ],
             [
              0.4444444444444444,
              "#bd3786"
             ],
             [
              0.5555555555555556,
              "#d8576b"
             ],
             [
              0.6666666666666666,
              "#ed7953"
             ],
             [
              0.7777777777777778,
              "#fb9f3a"
             ],
             [
              0.8888888888888888,
              "#fdca26"
             ],
             [
              1,
              "#f0f921"
             ]
            ],
            "type": "heatmapgl"
           }
          ],
          "histogram": [
           {
            "marker": {
             "pattern": {
              "fillmode": "overlay",
              "size": 10,
              "solidity": 0.2
             }
            },
            "type": "histogram"
           }
          ],
          "histogram2d": [
           {
            "colorbar": {
             "outlinewidth": 0,
             "ticks": ""
            },
            "colorscale": [
             [
              0,
              "#0d0887"
             ],
             [
              0.1111111111111111,
              "#46039f"
             ],
             [
              0.2222222222222222,
              "#7201a8"
             ],
             [
              0.3333333333333333,
              "#9c179e"
             ],
             [
              0.4444444444444444,
              "#bd3786"
             ],
             [
              0.5555555555555556,
              "#d8576b"
             ],
             [
              0.6666666666666666,
              "#ed7953"
             ],
             [
              0.7777777777777778,
              "#fb9f3a"
             ],
             [
              0.8888888888888888,
              "#fdca26"
             ],
             [
              1,
              "#f0f921"
             ]
            ],
            "type": "histogram2d"
           }
          ],
          "histogram2dcontour": [
           {
            "colorbar": {
             "outlinewidth": 0,
             "ticks": ""
            },
            "colorscale": [
             [
              0,
              "#0d0887"
             ],
             [
              0.1111111111111111,
              "#46039f"
             ],
             [
              0.2222222222222222,
              "#7201a8"
             ],
             [
              0.3333333333333333,
              "#9c179e"
             ],
             [
              0.4444444444444444,
              "#bd3786"
             ],
             [
              0.5555555555555556,
              "#d8576b"
             ],
             [
              0.6666666666666666,
              "#ed7953"
             ],
             [
              0.7777777777777778,
              "#fb9f3a"
             ],
             [
              0.8888888888888888,
              "#fdca26"
             ],
             [
              1,
              "#f0f921"
             ]
            ],
            "type": "histogram2dcontour"
           }
          ],
          "mesh3d": [
           {
            "colorbar": {
             "outlinewidth": 0,
             "ticks": ""
            },
            "type": "mesh3d"
           }
          ],
          "parcoords": [
           {
            "line": {
             "colorbar": {
              "outlinewidth": 0,
              "ticks": ""
             }
            },
            "type": "parcoords"
           }
          ],
          "pie": [
           {
            "automargin": true,
            "type": "pie"
           }
          ],
          "scatter": [
           {
            "fillpattern": {
             "fillmode": "overlay",
             "size": 10,
             "solidity": 0.2
            },
            "type": "scatter"
           }
          ],
          "scatter3d": [
           {
            "line": {
             "colorbar": {
              "outlinewidth": 0,
              "ticks": ""
             }
            },
            "marker": {
             "colorbar": {
              "outlinewidth": 0,
              "ticks": ""
             }
            },
            "type": "scatter3d"
           }
          ],
          "scattercarpet": [
           {
            "marker": {
             "colorbar": {
              "outlinewidth": 0,
              "ticks": ""
             }
            },
            "type": "scattercarpet"
           }
          ],
          "scattergeo": [
           {
            "marker": {
             "colorbar": {
              "outlinewidth": 0,
              "ticks": ""
             }
            },
            "type": "scattergeo"
           }
          ],
          "scattergl": [
           {
            "marker": {
             "colorbar": {
              "outlinewidth": 0,
              "ticks": ""
             }
            },
            "type": "scattergl"
           }
          ],
          "scattermapbox": [
           {
            "marker": {
             "colorbar": {
              "outlinewidth": 0,
              "ticks": ""
             }
            },
            "type": "scattermapbox"
           }
          ],
          "scatterpolar": [
           {
            "marker": {
             "colorbar": {
              "outlinewidth": 0,
              "ticks": ""
             }
            },
            "type": "scatterpolar"
           }
          ],
          "scatterpolargl": [
           {
            "marker": {
             "colorbar": {
              "outlinewidth": 0,
              "ticks": ""
             }
            },
            "type": "scatterpolargl"
           }
          ],
          "scatterternary": [
           {
            "marker": {
             "colorbar": {
              "outlinewidth": 0,
              "ticks": ""
             }
            },
            "type": "scatterternary"
           }
          ],
          "surface": [
           {
            "colorbar": {
             "outlinewidth": 0,
             "ticks": ""
            },
            "colorscale": [
             [
              0,
              "#0d0887"
             ],
             [
              0.1111111111111111,
              "#46039f"
             ],
             [
              0.2222222222222222,
              "#7201a8"
             ],
             [
              0.3333333333333333,
              "#9c179e"
             ],
             [
              0.4444444444444444,
              "#bd3786"
             ],
             [
              0.5555555555555556,
              "#d8576b"
             ],
             [
              0.6666666666666666,
              "#ed7953"
             ],
             [
              0.7777777777777778,
              "#fb9f3a"
             ],
             [
              0.8888888888888888,
              "#fdca26"
             ],
             [
              1,
              "#f0f921"
             ]
            ],
            "type": "surface"
           }
          ],
          "table": [
           {
            "cells": {
             "fill": {
              "color": "#EBF0F8"
             },
             "line": {
              "color": "white"
             }
            },
            "header": {
             "fill": {
              "color": "#C8D4E3"
             },
             "line": {
              "color": "white"
             }
            },
            "type": "table"
           }
          ]
         },
         "layout": {
          "annotationdefaults": {
           "arrowcolor": "#2a3f5f",
           "arrowhead": 0,
           "arrowwidth": 1
          },
          "autotypenumbers": "strict",
          "coloraxis": {
           "colorbar": {
            "outlinewidth": 0,
            "ticks": ""
           }
          },
          "colorscale": {
           "diverging": [
            [
             0,
             "#8e0152"
            ],
            [
             0.1,
             "#c51b7d"
            ],
            [
             0.2,
             "#de77ae"
            ],
            [
             0.3,
             "#f1b6da"
            ],
            [
             0.4,
             "#fde0ef"
            ],
            [
             0.5,
             "#f7f7f7"
            ],
            [
             0.6,
             "#e6f5d0"
            ],
            [
             0.7,
             "#b8e186"
            ],
            [
             0.8,
             "#7fbc41"
            ],
            [
             0.9,
             "#4d9221"
            ],
            [
             1,
             "#276419"
            ]
           ],
           "sequential": [
            [
             0,
             "#0d0887"
            ],
            [
             0.1111111111111111,
             "#46039f"
            ],
            [
             0.2222222222222222,
             "#7201a8"
            ],
            [
             0.3333333333333333,
             "#9c179e"
            ],
            [
             0.4444444444444444,
             "#bd3786"
            ],
            [
             0.5555555555555556,
             "#d8576b"
            ],
            [
             0.6666666666666666,
             "#ed7953"
            ],
            [
             0.7777777777777778,
             "#fb9f3a"
            ],
            [
             0.8888888888888888,
             "#fdca26"
            ],
            [
             1,
             "#f0f921"
            ]
           ],
           "sequentialminus": [
            [
             0,
             "#0d0887"
            ],
            [
             0.1111111111111111,
             "#46039f"
            ],
            [
             0.2222222222222222,
             "#7201a8"
            ],
            [
             0.3333333333333333,
             "#9c179e"
            ],
            [
             0.4444444444444444,
             "#bd3786"
            ],
            [
             0.5555555555555556,
             "#d8576b"
            ],
            [
             0.6666666666666666,
             "#ed7953"
            ],
            [
             0.7777777777777778,
             "#fb9f3a"
            ],
            [
             0.8888888888888888,
             "#fdca26"
            ],
            [
             1,
             "#f0f921"
            ]
           ]
          },
          "colorway": [
           "#636efa",
           "#EF553B",
           "#00cc96",
           "#ab63fa",
           "#FFA15A",
           "#19d3f3",
           "#FF6692",
           "#B6E880",
           "#FF97FF",
           "#FECB52"
          ],
          "font": {
           "color": "#2a3f5f"
          },
          "geo": {
           "bgcolor": "white",
           "lakecolor": "white",
           "landcolor": "#E5ECF6",
           "showlakes": true,
           "showland": true,
           "subunitcolor": "white"
          },
          "hoverlabel": {
           "align": "left"
          },
          "hovermode": "closest",
          "mapbox": {
           "style": "light"
          },
          "paper_bgcolor": "white",
          "plot_bgcolor": "#E5ECF6",
          "polar": {
           "angularaxis": {
            "gridcolor": "white",
            "linecolor": "white",
            "ticks": ""
           },
           "bgcolor": "#E5ECF6",
           "radialaxis": {
            "gridcolor": "white",
            "linecolor": "white",
            "ticks": ""
           }
          },
          "scene": {
           "xaxis": {
            "backgroundcolor": "#E5ECF6",
            "gridcolor": "white",
            "gridwidth": 2,
            "linecolor": "white",
            "showbackground": true,
            "ticks": "",
            "zerolinecolor": "white"
           },
           "yaxis": {
            "backgroundcolor": "#E5ECF6",
            "gridcolor": "white",
            "gridwidth": 2,
            "linecolor": "white",
            "showbackground": true,
            "ticks": "",
            "zerolinecolor": "white"
           },
           "zaxis": {
            "backgroundcolor": "#E5ECF6",
            "gridcolor": "white",
            "gridwidth": 2,
            "linecolor": "white",
            "showbackground": true,
            "ticks": "",
            "zerolinecolor": "white"
           }
          },
          "shapedefaults": {
           "line": {
            "color": "#2a3f5f"
           }
          },
          "ternary": {
           "aaxis": {
            "gridcolor": "white",
            "linecolor": "white",
            "ticks": ""
           },
           "baxis": {
            "gridcolor": "white",
            "linecolor": "white",
            "ticks": ""
           },
           "bgcolor": "#E5ECF6",
           "caxis": {
            "gridcolor": "white",
            "linecolor": "white",
            "ticks": ""
           }
          },
          "title": {
           "x": 0.05
          },
          "xaxis": {
           "automargin": true,
           "gridcolor": "white",
           "linecolor": "white",
           "ticks": "",
           "title": {
            "standoff": 15
           },
           "zerolinecolor": "white",
           "zerolinewidth": 2
          },
          "yaxis": {
           "automargin": true,
           "gridcolor": "white",
           "linecolor": "white",
           "ticks": "",
           "title": {
            "standoff": 15
           },
           "zerolinecolor": "white",
           "zerolinewidth": 2
          }
         }
        }
       }
      },
      "text/html": [
       "<div>                            <div id=\"dcd3cd34-3ed1-4c88-ba22-9c7fa89e4229\" class=\"plotly-graph-div\" style=\"height:300px; width:100%;\"></div>            <script type=\"text/javascript\">                require([\"plotly\"], function(Plotly) {                    window.PLOTLYENV=window.PLOTLYENV || {};                                    if (document.getElementById(\"dcd3cd34-3ed1-4c88-ba22-9c7fa89e4229\")) {                    Plotly.newPlot(                        \"dcd3cd34-3ed1-4c88-ba22-9c7fa89e4229\",                        [{\"customdata\":[[\"Bannerman's Castle\",\" 90 Front St Beacon\",[\"United States\"],418]],\"hovertemplate\":\"<b>%{hovertext}</b><br><br>Name=%{customdata[0]}<br>Latitude=%{lat}<br>Longitude=%{lon}<br>Address=%{customdata[1]}<br>Country=%{customdata[2]}<br>Number of people who visited=%{customdata[3]}<extra></extra>\",\"hovertext\":[\"Bannerman's Castle\"],\"lat\":[41.4553],\"legendgroup\":\"Bannerman's Castle\",\"lon\":[-73.9889],\"marker\":{\"color\":\"#636efa\"},\"mode\":\"markers\",\"name\":\"Bannerman's Castle\",\"showlegend\":true,\"subplot\":\"mapbox\",\"type\":\"scattermapbox\"},{\"customdata\":[[\"Kansas City Workhouse\",\" Vine Street and East 21st Street Kansas City\",[\"United States\"],494]],\"hovertemplate\":\"<b>%{hovertext}</b><br><br>Name=%{customdata[0]}<br>Latitude=%{lat}<br>Longitude=%{lon}<br>Address=%{customdata[1]}<br>Country=%{customdata[2]}<br>Number of people who visited=%{customdata[3]}<extra></extra>\",\"hovertext\":[\"Kansas City Workhouse\"],\"lat\":[39.0871],\"legendgroup\":\"Kansas City Workhouse\",\"lon\":[-94.5635],\"marker\":{\"color\":\"#EF553B\"},\"mode\":\"markers\",\"name\":\"Kansas City Workhouse\",\"showlegend\":true,\"subplot\":\"mapbox\",\"type\":\"scattermapbox\"},{\"customdata\":[[\"Hammond Castle Museum\",\" 80 Hesperus Avenue Gloucester\",[\"United States\"],728]],\"hovertemplate\":\"<b>%{hovertext}</b><br><br>Name=%{customdata[0]}<br>Latitude=%{lat}<br>Longitude=%{lon}<br>Address=%{customdata[1]}<br>Country=%{customdata[2]}<br>Number of people who visited=%{customdata[3]}<extra></extra>\",\"hovertext\":[\"Hammond Castle Museum\"],\"lat\":[42.586],\"legendgroup\":\"Hammond Castle Museum\",\"lon\":[-70.6926],\"marker\":{\"color\":\"#00cc96\"},\"mode\":\"markers\",\"name\":\"Hammond Castle Museum\",\"showlegend\":true,\"subplot\":\"mapbox\",\"type\":\"scattermapbox\"},{\"customdata\":[[\"Panoptikum Budapest\",\" 9 \\u00dari u. Budapest\",[\"Hungary\"],573]],\"hovertemplate\":\"<b>%{hovertext}</b><br><br>Name=%{customdata[0]}<br>Latitude=%{lat}<br>Longitude=%{lon}<br>Address=%{customdata[1]}<br>Country=%{customdata[2]}<br>Number of people who visited=%{customdata[3]}<extra></extra>\",\"hovertext\":[\"Panoptikum Budapest\"],\"lat\":[47.5001],\"legendgroup\":\"Panoptikum Budapest\",\"lon\":[19.0341],\"marker\":{\"color\":\"#ab63fa\"},\"mode\":\"markers\",\"name\":\"Panoptikum Budapest\",\"showlegend\":true,\"subplot\":\"mapbox\",\"type\":\"scattermapbox\"},{\"customdata\":[[\"Tintagel Castle\",\" Bossiney Road Tintagel\",[\"United Kingdom\"],858]],\"hovertemplate\":\"<b>%{hovertext}</b><br><br>Name=%{customdata[0]}<br>Latitude=%{lat}<br>Longitude=%{lon}<br>Address=%{customdata[1]}<br>Country=%{customdata[2]}<br>Number of people who visited=%{customdata[3]}<extra></extra>\",\"hovertext\":[\"Tintagel Castle\"],\"lat\":[50.6682],\"legendgroup\":\"Tintagel Castle\",\"lon\":[-4.7597],\"marker\":{\"color\":\"#FFA15A\"},\"mode\":\"markers\",\"name\":\"Tintagel Castle\",\"showlegend\":true,\"subplot\":\"mapbox\",\"type\":\"scattermapbox\"},{\"customdata\":[[\"Rosslyn Chapel\",\" Chapel Loan Roslin\",[\"United Kingdom\"],725]],\"hovertemplate\":\"<b>%{hovertext}</b><br><br>Name=%{customdata[0]}<br>Latitude=%{lat}<br>Longitude=%{lon}<br>Address=%{customdata[1]}<br>Country=%{customdata[2]}<br>Number of people who visited=%{customdata[3]}<extra></extra>\",\"hovertext\":[\"Rosslyn Chapel\"],\"lat\":[55.8561],\"legendgroup\":\"Rosslyn Chapel\",\"lon\":[-3.1591],\"marker\":{\"color\":\"#19d3f3\"},\"mode\":\"markers\",\"name\":\"Rosslyn Chapel\",\"showlegend\":true,\"subplot\":\"mapbox\",\"type\":\"scattermapbox\"},{\"customdata\":[[\"The Witchery\",\" 352 Castlehill Edinburgh\",[\"United Kingdom\"],615]],\"hovertemplate\":\"<b>%{hovertext}</b><br><br>Name=%{customdata[0]}<br>Latitude=%{lat}<br>Longitude=%{lon}<br>Address=%{customdata[1]}<br>Country=%{customdata[2]}<br>Number of people who visited=%{customdata[3]}<extra></extra>\",\"hovertext\":[\"The Witchery\"],\"lat\":[55.9488],\"legendgroup\":\"The Witchery\",\"lon\":[-3.1956],\"marker\":{\"color\":\"#FF6692\"},\"mode\":\"markers\",\"name\":\"The Witchery\",\"showlegend\":true,\"subplot\":\"mapbox\",\"type\":\"scattermapbox\"},{\"customdata\":[[\"Vajdahunyad Castle\",\" Vajdahunyad stny. Budapest\",[\"Hungary\"],998]],\"hovertemplate\":\"<b>%{hovertext}</b><br><br>Name=%{customdata[0]}<br>Latitude=%{lat}<br>Longitude=%{lon}<br>Address=%{customdata[1]}<br>Country=%{customdata[2]}<br>Number of people who visited=%{customdata[3]}<extra></extra>\",\"hovertext\":[\"Vajdahunyad Castle\"],\"lat\":[47.515],\"legendgroup\":\"Vajdahunyad Castle\",\"lon\":[19.0833],\"marker\":{\"color\":\"#B6E880\"},\"mode\":\"markers\",\"name\":\"Vajdahunyad Castle\",\"showlegend\":true,\"subplot\":\"mapbox\",\"type\":\"scattermapbox\"},{\"customdata\":[[\"Ruins of Whitby Abbey\",\" Whitby\",[\"United Kingdom\"],983]],\"hovertemplate\":\"<b>%{hovertext}</b><br><br>Name=%{customdata[0]}<br>Latitude=%{lat}<br>Longitude=%{lon}<br>Address=%{customdata[1]}<br>Country=%{customdata[2]}<br>Number of people who visited=%{customdata[3]}<extra></extra>\",\"hovertext\":[\"Ruins of Whitby Abbey\"],\"lat\":[54.4886],\"legendgroup\":\"Ruins of Whitby Abbey\",\"lon\":[-0.6074],\"marker\":{\"color\":\"#FF97FF\"},\"mode\":\"markers\",\"name\":\"Ruins of Whitby Abbey\",\"showlegend\":true,\"subplot\":\"mapbox\",\"type\":\"scattermapbox\"},{\"customdata\":[[\"Ohio State Reformatory\",\" Mansfield\",[\"United States\"],832]],\"hovertemplate\":\"<b>%{hovertext}</b><br><br>Name=%{customdata[0]}<br>Latitude=%{lat}<br>Longitude=%{lon}<br>Address=%{customdata[1]}<br>Country=%{customdata[2]}<br>Number of people who visited=%{customdata[3]}<extra></extra>\",\"hovertext\":[\"Ohio State Reformatory\"],\"lat\":[40.7837],\"legendgroup\":\"Ohio State Reformatory\",\"lon\":[-82.5028],\"marker\":{\"color\":\"#FECB52\"},\"mode\":\"markers\",\"name\":\"Ohio State Reformatory\",\"showlegend\":true,\"subplot\":\"mapbox\",\"type\":\"scattermapbox\"}],                        {\"template\":{\"data\":{\"histogram2dcontour\":[{\"type\":\"histogram2dcontour\",\"colorbar\":{\"outlinewidth\":0,\"ticks\":\"\"},\"colorscale\":[[0.0,\"#0d0887\"],[0.1111111111111111,\"#46039f\"],[0.2222222222222222,\"#7201a8\"],[0.3333333333333333,\"#9c179e\"],[0.4444444444444444,\"#bd3786\"],[0.5555555555555556,\"#d8576b\"],[0.6666666666666666,\"#ed7953\"],[0.7777777777777778,\"#fb9f3a\"],[0.8888888888888888,\"#fdca26\"],[1.0,\"#f0f921\"]]}],\"choropleth\":[{\"type\":\"choropleth\",\"colorbar\":{\"outlinewidth\":0,\"ticks\":\"\"}}],\"histogram2d\":[{\"type\":\"histogram2d\",\"colorbar\":{\"outlinewidth\":0,\"ticks\":\"\"},\"colorscale\":[[0.0,\"#0d0887\"],[0.1111111111111111,\"#46039f\"],[0.2222222222222222,\"#7201a8\"],[0.3333333333333333,\"#9c179e\"],[0.4444444444444444,\"#bd3786\"],[0.5555555555555556,\"#d8576b\"],[0.6666666666666666,\"#ed7953\"],[0.7777777777777778,\"#fb9f3a\"],[0.8888888888888888,\"#fdca26\"],[1.0,\"#f0f921\"]]}],\"heatmap\":[{\"type\":\"heatmap\",\"colorbar\":{\"outlinewidth\":0,\"ticks\":\"\"},\"colorscale\":[[0.0,\"#0d0887\"],[0.1111111111111111,\"#46039f\"],[0.2222222222222222,\"#7201a8\"],[0.3333333333333333,\"#9c179e\"],[0.4444444444444444,\"#bd3786\"],[0.5555555555555556,\"#d8576b\"],[0.6666666666666666,\"#ed7953\"],[0.7777777777777778,\"#fb9f3a\"],[0.8888888888888888,\"#fdca26\"],[1.0,\"#f0f921\"]]}],\"heatmapgl\":[{\"type\":\"heatmapgl\",\"colorbar\":{\"outlinewidth\":0,\"ticks\":\"\"},\"colorscale\":[[0.0,\"#0d0887\"],[0.1111111111111111,\"#46039f\"],[0.2222222222222222,\"#7201a8\"],[0.3333333333333333,\"#9c179e\"],[0.4444444444444444,\"#bd3786\"],[0.5555555555555556,\"#d8576b\"],[0.6666666666666666,\"#ed7953\"],[0.7777777777777778,\"#fb9f3a\"],[0.8888888888888888,\"#fdca26\"],[1.0,\"#f0f921\"]]}],\"contourcarpet\":[{\"type\":\"contourcarpet\",\"colorbar\":{\"outlinewidth\":0,\"ticks\":\"\"}}],\"contour\":[{\"type\":\"contour\",\"colorbar\":{\"outlinewidth\":0,\"ticks\":\"\"},\"colorscale\":[[0.0,\"#0d0887\"],[0.1111111111111111,\"#46039f\"],[0.2222222222222222,\"#7201a8\"],[0.3333333333333333,\"#9c179e\"],[0.4444444444444444,\"#bd3786\"],[0.5555555555555556,\"#d8576b\"],[0.6666666666666666,\"#ed7953\"],[0.7777777777777778,\"#fb9f3a\"],[0.8888888888888888,\"#fdca26\"],[1.0,\"#f0f921\"]]}],\"surface\":[{\"type\":\"surface\",\"colorbar\":{\"outlinewidth\":0,\"ticks\":\"\"},\"colorscale\":[[0.0,\"#0d0887\"],[0.1111111111111111,\"#46039f\"],[0.2222222222222222,\"#7201a8\"],[0.3333333333333333,\"#9c179e\"],[0.4444444444444444,\"#bd3786\"],[0.5555555555555556,\"#d8576b\"],[0.6666666666666666,\"#ed7953\"],[0.7777777777777778,\"#fb9f3a\"],[0.8888888888888888,\"#fdca26\"],[1.0,\"#f0f921\"]]}],\"mesh3d\":[{\"type\":\"mesh3d\",\"colorbar\":{\"outlinewidth\":0,\"ticks\":\"\"}}],\"scatter\":[{\"fillpattern\":{\"fillmode\":\"overlay\",\"size\":10,\"solidity\":0.2},\"type\":\"scatter\"}],\"parcoords\":[{\"type\":\"parcoords\",\"line\":{\"colorbar\":{\"outlinewidth\":0,\"ticks\":\"\"}}}],\"scatterpolargl\":[{\"type\":\"scatterpolargl\",\"marker\":{\"colorbar\":{\"outlinewidth\":0,\"ticks\":\"\"}}}],\"bar\":[{\"error_x\":{\"color\":\"#2a3f5f\"},\"error_y\":{\"color\":\"#2a3f5f\"},\"marker\":{\"line\":{\"color\":\"#E5ECF6\",\"width\":0.5},\"pattern\":{\"fillmode\":\"overlay\",\"size\":10,\"solidity\":0.2}},\"type\":\"bar\"}],\"scattergeo\":[{\"type\":\"scattergeo\",\"marker\":{\"colorbar\":{\"outlinewidth\":0,\"ticks\":\"\"}}}],\"scatterpolar\":[{\"type\":\"scatterpolar\",\"marker\":{\"colorbar\":{\"outlinewidth\":0,\"ticks\":\"\"}}}],\"histogram\":[{\"marker\":{\"pattern\":{\"fillmode\":\"overlay\",\"size\":10,\"solidity\":0.2}},\"type\":\"histogram\"}],\"scattergl\":[{\"type\":\"scattergl\",\"marker\":{\"colorbar\":{\"outlinewidth\":0,\"ticks\":\"\"}}}],\"scatter3d\":[{\"type\":\"scatter3d\",\"line\":{\"colorbar\":{\"outlinewidth\":0,\"ticks\":\"\"}},\"marker\":{\"colorbar\":{\"outlinewidth\":0,\"ticks\":\"\"}}}],\"scattermapbox\":[{\"type\":\"scattermapbox\",\"marker\":{\"colorbar\":{\"outlinewidth\":0,\"ticks\":\"\"}}}],\"scatterternary\":[{\"type\":\"scatterternary\",\"marker\":{\"colorbar\":{\"outlinewidth\":0,\"ticks\":\"\"}}}],\"scattercarpet\":[{\"type\":\"scattercarpet\",\"marker\":{\"colorbar\":{\"outlinewidth\":0,\"ticks\":\"\"}}}],\"carpet\":[{\"aaxis\":{\"endlinecolor\":\"#2a3f5f\",\"gridcolor\":\"white\",\"linecolor\":\"white\",\"minorgridcolor\":\"white\",\"startlinecolor\":\"#2a3f5f\"},\"baxis\":{\"endlinecolor\":\"#2a3f5f\",\"gridcolor\":\"white\",\"linecolor\":\"white\",\"minorgridcolor\":\"white\",\"startlinecolor\":\"#2a3f5f\"},\"type\":\"carpet\"}],\"table\":[{\"cells\":{\"fill\":{\"color\":\"#EBF0F8\"},\"line\":{\"color\":\"white\"}},\"header\":{\"fill\":{\"color\":\"#C8D4E3\"},\"line\":{\"color\":\"white\"}},\"type\":\"table\"}],\"barpolar\":[{\"marker\":{\"line\":{\"color\":\"#E5ECF6\",\"width\":0.5},\"pattern\":{\"fillmode\":\"overlay\",\"size\":10,\"solidity\":0.2}},\"type\":\"barpolar\"}],\"pie\":[{\"automargin\":true,\"type\":\"pie\"}]},\"layout\":{\"autotypenumbers\":\"strict\",\"colorway\":[\"#636efa\",\"#EF553B\",\"#00cc96\",\"#ab63fa\",\"#FFA15A\",\"#19d3f3\",\"#FF6692\",\"#B6E880\",\"#FF97FF\",\"#FECB52\"],\"font\":{\"color\":\"#2a3f5f\"},\"hovermode\":\"closest\",\"hoverlabel\":{\"align\":\"left\"},\"paper_bgcolor\":\"white\",\"plot_bgcolor\":\"#E5ECF6\",\"polar\":{\"bgcolor\":\"#E5ECF6\",\"angularaxis\":{\"gridcolor\":\"white\",\"linecolor\":\"white\",\"ticks\":\"\"},\"radialaxis\":{\"gridcolor\":\"white\",\"linecolor\":\"white\",\"ticks\":\"\"}},\"ternary\":{\"bgcolor\":\"#E5ECF6\",\"aaxis\":{\"gridcolor\":\"white\",\"linecolor\":\"white\",\"ticks\":\"\"},\"baxis\":{\"gridcolor\":\"white\",\"linecolor\":\"white\",\"ticks\":\"\"},\"caxis\":{\"gridcolor\":\"white\",\"linecolor\":\"white\",\"ticks\":\"\"}},\"coloraxis\":{\"colorbar\":{\"outlinewidth\":0,\"ticks\":\"\"}},\"colorscale\":{\"sequential\":[[0.0,\"#0d0887\"],[0.1111111111111111,\"#46039f\"],[0.2222222222222222,\"#7201a8\"],[0.3333333333333333,\"#9c179e\"],[0.4444444444444444,\"#bd3786\"],[0.5555555555555556,\"#d8576b\"],[0.6666666666666666,\"#ed7953\"],[0.7777777777777778,\"#fb9f3a\"],[0.8888888888888888,\"#fdca26\"],[1.0,\"#f0f921\"]],\"sequentialminus\":[[0.0,\"#0d0887\"],[0.1111111111111111,\"#46039f\"],[0.2222222222222222,\"#7201a8\"],[0.3333333333333333,\"#9c179e\"],[0.4444444444444444,\"#bd3786\"],[0.5555555555555556,\"#d8576b\"],[0.6666666666666666,\"#ed7953\"],[0.7777777777777778,\"#fb9f3a\"],[0.8888888888888888,\"#fdca26\"],[1.0,\"#f0f921\"]],\"diverging\":[[0,\"#8e0152\"],[0.1,\"#c51b7d\"],[0.2,\"#de77ae\"],[0.3,\"#f1b6da\"],[0.4,\"#fde0ef\"],[0.5,\"#f7f7f7\"],[0.6,\"#e6f5d0\"],[0.7,\"#b8e186\"],[0.8,\"#7fbc41\"],[0.9,\"#4d9221\"],[1,\"#276419\"]]},\"xaxis\":{\"gridcolor\":\"white\",\"linecolor\":\"white\",\"ticks\":\"\",\"title\":{\"standoff\":15},\"zerolinecolor\":\"white\",\"automargin\":true,\"zerolinewidth\":2},\"yaxis\":{\"gridcolor\":\"white\",\"linecolor\":\"white\",\"ticks\":\"\",\"title\":{\"standoff\":15},\"zerolinecolor\":\"white\",\"automargin\":true,\"zerolinewidth\":2},\"scene\":{\"xaxis\":{\"backgroundcolor\":\"#E5ECF6\",\"gridcolor\":\"white\",\"linecolor\":\"white\",\"showbackground\":true,\"ticks\":\"\",\"zerolinecolor\":\"white\",\"gridwidth\":2},\"yaxis\":{\"backgroundcolor\":\"#E5ECF6\",\"gridcolor\":\"white\",\"linecolor\":\"white\",\"showbackground\":true,\"ticks\":\"\",\"zerolinecolor\":\"white\",\"gridwidth\":2},\"zaxis\":{\"backgroundcolor\":\"#E5ECF6\",\"gridcolor\":\"white\",\"linecolor\":\"white\",\"showbackground\":true,\"ticks\":\"\",\"zerolinecolor\":\"white\",\"gridwidth\":2}},\"shapedefaults\":{\"line\":{\"color\":\"#2a3f5f\"}},\"annotationdefaults\":{\"arrowcolor\":\"#2a3f5f\",\"arrowhead\":0,\"arrowwidth\":1},\"geo\":{\"bgcolor\":\"white\",\"landcolor\":\"#E5ECF6\",\"subunitcolor\":\"white\",\"showland\":true,\"showlakes\":true,\"lakecolor\":\"white\"},\"title\":{\"x\":0.05},\"mapbox\":{\"style\":\"light\"}}},\"mapbox\":{\"domain\":{\"x\":[0.0,1.0],\"y\":[0.0,1.0]},\"center\":{\"lat\":47.58889,\"lon\":-29.535220000000002},\"zoom\":3,\"style\":\"carto-positron\"},\"legend\":{\"title\":{\"text\":\"Name\"},\"tracegroupgap\":0},\"margin\":{\"t\":0,\"r\":0,\"l\":0,\"b\":0},\"height\":300},                        {\"responsive\": true}                    ).then(function(){\n",
       "                            \n",
       "var gd = document.getElementById('dcd3cd34-3ed1-4c88-ba22-9c7fa89e4229');\n",
       "var x = new MutationObserver(function (mutations, observer) {{\n",
       "        var display = window.getComputedStyle(gd).display;\n",
       "        if (!display || display === 'none') {{\n",
       "            console.log([gd, 'removed!']);\n",
       "            Plotly.purge(gd);\n",
       "            observer.disconnect();\n",
       "        }}\n",
       "}});\n",
       "\n",
       "// Listen for the removal of the full notebook cells\n",
       "var notebookContainer = gd.closest('#notebook-container');\n",
       "if (notebookContainer) {{\n",
       "    x.observe(notebookContainer, {childList: true});\n",
       "}}\n",
       "\n",
       "// Listen for the clearing of the current output cell\n",
       "var outputEl = gd.closest('.output');\n",
       "if (outputEl) {{\n",
       "    x.observe(outputEl, {childList: true});\n",
       "}}\n",
       "\n",
       "                        })                };                });            </script>        </div>"
      ]
     },
     "metadata": {},
     "output_type": "display_data"
    }
   ],
   "source": [
    "fig = px.scatter_mapbox(df, lat=\"placeAlt\", lon=\"placeLong\",\n",
    "                        hover_name=\"placeName\", \n",
    "                        hover_data=[\"placeName\", \"Address\",'Country', \"numPeopleVisited\"],\n",
    "                        color=\"placeName\",\n",
    "                        color_continuous_scale=px.colors.sequential.Blackbody,\n",
    "                        zoom=3, \n",
    "                        height=300,\n",
    "                        size_max=15,\n",
    "                        labels={'placeAlt':'Latitude','placeLong':'Longitude','placeName':'Name','numPeopleVisited':'Number of people who visited','placeZone':'City'})\n",
    "fig.update_layout(mapbox_style=\"carto-positron\")\n",
    "fig.update_layout(margin={\"r\":0,\"t\":0,\"l\":0,\"b\":0})\n",
    "fig.show()"
   ]
  },
  {
   "cell_type": "markdown",
   "id": "c4d9fb45",
   "metadata": {},
   "source": [
    "# Command line"
   ]
  },
  {
   "cell_type": "code",
   "execution_count": null,
   "id": "5245f9f2",
   "metadata": {},
   "outputs": [],
   "source": [
    "# Command line\n",
    "\n",
    "In order to check if the command line in the bash works properly"
   ]
  },
  {
   "cell_type": "code",
   "execution_count": 30,
   "id": "f771a7ad",
   "metadata": {},
   "outputs": [
    {
     "name": "stdout",
     "output_type": "stream",
     "text": [
      "Country :  Italy\n",
      "Number of places that can be found in Italy : 210\n",
      "Average visit of the places of Italy : 383.005\n",
      "People that want to visit the places of Italy : 182,300\n",
      "\n",
      "Country :  Spain\n",
      "Number of places that can be found in Spain : 91\n",
      "Average visit of the places of Spain : 448.099\n",
      "People that want to visit the places of Spain : 71,215\n",
      "\n",
      "Country :  France\n",
      "Number of places that can be found in France : 206\n",
      "Average visit of the places of France : 424.898\n",
      "People that want to visit the places of France : 204,662\n",
      "\n",
      "Country :  England\n",
      "Number of places that can be found in England : 365\n",
      "Average visit of the places of England : 474.956\n",
      "People that want to visit the places of England : 387,032\n",
      "\n",
      "Country :  United States\n",
      "Number of places that can be found in United States : 4616\n",
      "Average visit of the places of United States : 436.025\n",
      "People that want to visit the places of United States : 4,335,470\n",
      "\n"
     ]
    }
   ],
   "source": [
    "df_out = pd.read_csv(os.getcwd()+'/final_dataset.csv', usecols=['2', '3', '7'])\n",
    "df_out = df_out.rename(columns={'2': 'numPeopleVisited', '3': 'numPeopleWant', '7': 'placeAddress'})\n",
    "countries = ['Italy', 'Spain', 'France', 'England', 'United States']\n",
    "\n",
    "for country in countries :\n",
    "    n_places = len(df_out[df_out['placeAddress'].str.contains(country) == True])\n",
    "    print(\"Country : \",country)\n",
    "    print(\"Number of places that can be found in \"+country+\" : \"+str(n_places))\n",
    "    print(\"Average visit of the places of \"+country+\" : \"+str(np.round(sum(df_out[df_out['placeAddress'].str.contains(country) == True].numPeopleVisited)/n_places,3)))\n",
    "    print(\"People that want to visit the places of \"+country+\" : \"+str('{:,}'.format(np.round(sum(df_out[df_out['placeAddress'].str.contains(country) == True].numPeopleWant,3)))))\n",
    "    print('')"
   ]
  }
 ],
 "metadata": {
  "kernelspec": {
   "display_name": "Python 3 (ipykernel)",
   "language": "python",
   "name": "python3"
  },
  "language_info": {
   "codemirror_mode": {
    "name": "ipython",
    "version": 3
   },
   "file_extension": ".py",
   "mimetype": "text/x-python",
   "name": "python",
   "nbconvert_exporter": "python",
   "pygments_lexer": "ipython3",
   "version": "3.9.7"
  },
  "vscode": {
   "interpreter": {
    "hash": "38cdd751ff1a78921eff5cc54f687db2b577836ff9e523662c7eedaeda872ff5"
   }
  }
 },
 "nbformat": 4,
 "nbformat_minor": 5
}
