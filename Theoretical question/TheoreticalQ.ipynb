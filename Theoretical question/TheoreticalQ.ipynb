{
 "cells": [
  {
   "cell_type": "markdown",
   "id": "cf46f7eb-05cb-4366-9158-6c1137514c4a",
   "metadata": {},
   "source": [
    "# 7. Theoretical question"
   ]
  },
  {
   "cell_type": "markdown",
   "id": "4b5ae51b-f546-4ab0-82cb-45dcf2221a93",
   "metadata": {
    "tags": []
   },
   "source": [
    "## Data preparation"
   ]
  },
  {
   "cell_type": "code",
   "execution_count": 127,
   "id": "3735d5a1-1b65-4020-a6ae-f0febc636931",
   "metadata": {},
   "outputs": [],
   "source": [
    "from functools import reduce\n",
    "import random as rdm\n",
    "import time\n",
    "import matplotlib.pyplot as plt"
   ]
  },
  {
   "cell_type": "markdown",
   "id": "5783ff48-d7bf-453f-81a6-f5f83964187d",
   "metadata": {
    "tags": []
   },
   "source": [
    "#### Our functions"
   ]
  },
  {
   "cell_type": "markdown",
   "id": "83f12a23-6752-4474-a328-82f563fe9b81",
   "metadata": {},
   "source": [
    "First of all we want to define some useful subroutines to substitute built-ins methods with ones defined from scratch."
   ]
  },
  {
   "cell_type": "code",
   "execution_count": 70,
   "id": "a6956fd5-e61b-40df-9dc2-d86aef758b05",
   "metadata": {},
   "outputs": [],
   "source": [
    "def maxer(arr:list)->int:\n",
    "    M = 0\n",
    "    for i in arr:\n",
    "        if i > M:\n",
    "            M = i\n",
    "    return M\n",
    "\n",
    "def miner(arr:list)->int:\n",
    "    m = arr[0]\n",
    "    for i in arr:\n",
    "        if i < m:\n",
    "            m = i\n",
    "    return m\n",
    "\n",
    "def meaner(arr:list) -> int:\n",
    "    avger = lambda x:x/len(arr)\n",
    "    summer = lambda a,b:a+b\n",
    "    return reduce(summer,map(avger,arr))\n",
    "\n",
    "def truncate(num, n):\n",
    "    integer = int(num * (10**n))/(10**n)\n",
    "    return float(integer)"
   ]
  },
  {
   "cell_type": "code",
   "execution_count": 28,
   "id": "8504cb32-4643-45f5-972e-564ccc3f1b56",
   "metadata": {
    "jp-MarkdownHeadingCollapsed": true,
    "tags": []
   },
   "outputs": [],
   "source": [
    "from functools import reduce\n",
    "import random as rdm#### Our Data"
   ]
  },
  {
   "cell_type": "markdown",
   "id": "24869209-a661-4eb6-9cb7-255cc942fcea",
   "metadata": {
    "tags": []
   },
   "source": [
    "#### Our data"
   ]
  },
  {
   "cell_type": "code",
   "execution_count": 84,
   "id": "a6e3104d-3cd8-4cb2-84b2-7c2e50418a8c",
   "metadata": {},
   "outputs": [],
   "source": [
    "#Initializing lists for grades and students\n",
    "l_students = []\n",
    "l_grades = []\n",
    "\n",
    "#build list for student names and corresponfìding grades average\n",
    "for key in d:\n",
    "    l_students.append(key)\n",
    "\n",
    "    l_grades.append(d[key])"
   ]
  },
  {
   "cell_type": "markdown",
   "id": "df209399-92e4-4014-a0ae-9b9553704213",
   "metadata": {},
   "source": [
    "In order to solve the problem we are dealing with in TQ1, we are going to use three different sorting algorithms: **Bubble sort**, **Dynamic Insertion Sort** and **Merge Sort**"
   ]
  },
  {
   "cell_type": "markdown",
   "id": "a1531ae5-94dc-4fbf-aebf-24628c7ee29e",
   "metadata": {
    "tags": []
   },
   "source": [
    "## 1. Try solving the problem mentioned above using three different sorting algorithms (do not use any MapReduce algorithm). (Note: Built-in Python functions (like .mean, .sort, etc.) are not allowed to be used. You must implement the algorithms from scratch)."
   ]
  },
  {
   "cell_type": "markdown",
   "id": "5cf22703-b1b3-44aa-a19b-f10f9361581f",
   "metadata": {
    "tags": []
   },
   "source": [
    "### Bubble sort"
   ]
  },
  {
   "cell_type": "code",
   "execution_count": 85,
   "id": "a37fa2f8-9612-46e1-9bfe-575cb13ec42f",
   "metadata": {},
   "outputs": [],
   "source": [
    "l_grades1=l_grades\n",
    "l_students1=l_students"
   ]
  },
  {
   "cell_type": "code",
   "execution_count": 86,
   "id": "b1149f09-05a5-4bcd-8b52-3936655800a5",
   "metadata": {},
   "outputs": [],
   "source": [
    "def bubbleSort(grades, students):\n",
    "    n = len(grades)\n",
    "    swap = False\n",
    "    \n",
    "    for i in range(n-1):\n",
    "        for j in range(0, n-i-1):\n",
    " \n",
    "            #we swap if the element found is greater than the next element\n",
    "            if grades[j] > grades[j + 1]:\n",
    "                swap = True\n",
    "                grades[j], grades[j + 1] = grades[j + 1], grades[j]\n",
    "                students[j], students[j + 1] = students[j + 1], students[j]\n",
    "         \n",
    "        if not swap: #the array is sorted\n",
    "\n",
    "            return"
   ]
  },
  {
   "cell_type": "code",
   "execution_count": 87,
   "id": "d4519cc6-ec30-4f15-94dd-36d4686438ce",
   "metadata": {},
   "outputs": [],
   "source": [
    "# get the start time\n",
    "st = time.time()\n",
    "\n",
    "bubbleSort(l_grades1,l_students1)\n",
    "\n",
    "# get the end time\n",
    "et = time.time()\n",
    "\n",
    "ex_time_bubble_sort= et - st"
   ]
  },
  {
   "cell_type": "code",
   "execution_count": 103,
   "id": "9757fe3b-bd08-475b-8970-e5694b87b6a5",
   "metadata": {
    "tags": []
   },
   "outputs": [
    {
     "data": {
      "text/plain": [
       "[(24.49, 'Emily Crispin'),\n",
       " (24.49, 'Patricia Witten'),\n",
       " (24.45, 'Doreen Richmond'),\n",
       " (24.44, 'David Niederberger'),\n",
       " (24.44, 'Keisha Keene'),\n",
       " (24.44, 'Steven Boston'),\n",
       " (24.42, 'Melody Sanchez'),\n",
       " (24.42, 'Marvin Ramirez'),\n",
       " (24.42, 'John Johnson'),\n",
       " (24.41, 'Ida Mccabe')]"
      ]
     },
     "execution_count": 103,
     "metadata": {},
     "output_type": "execute_result"
    }
   ],
   "source": [
    "list(zip(l_grades,l_students))[::-1][:10]"
   ]
  },
  {
   "cell_type": "code",
   "execution_count": 89,
   "id": "10672a04-63ce-4ce0-bf12-7bc5f10de913",
   "metadata": {},
   "outputs": [
    {
     "name": "stdout",
     "output_type": "stream",
     "text": [
      "The running time of the Bubble Sort Algorithm is  324.1412239074707\n"
     ]
    }
   ],
   "source": [
    "print('The running time of the Bubble Sort Algorithm is ',ex_time_bubble_sort)"
   ]
  },
  {
   "cell_type": "markdown",
   "id": "5b7184ce-fd9e-409b-a9eb-35f6ebe73584",
   "metadata": {
    "tags": []
   },
   "source": [
    "### Merge Sort "
   ]
  },
  {
   "cell_type": "code",
   "execution_count": 120,
   "id": "b74050b1-743d-40cd-9fa3-16b594b8a126",
   "metadata": {},
   "outputs": [],
   "source": [
    "def mergeSort(grades,students):\n",
    "    if len(grades) > 1:\n",
    " \n",
    "        #middle of array\n",
    "        mid = len(grades)//2\n",
    " \n",
    "        #splitting the right side\n",
    "        left_g = grades[:mid] \n",
    "        left_s = students[:mid] \n",
    " \n",
    "        #splitting the left side\n",
    "        right_g = grades[mid:]\n",
    "        right_s = students[mid:]\n",
    " \n",
    "        #sorting left side\n",
    "        mergeSort(left_g, left_s)\n",
    " \n",
    "        #sorting right side\n",
    "        mergeSort(right_g, right_s)\n",
    " \n",
    "        i = j = k = 0\n",
    " \n",
    "        #copy arrays to temp arrays left[] and right[]\n",
    "        while i < len(left_g) and j < len(right_g):\n",
    "            if left_g[i] <= right_g[j]:\n",
    "                grades[k] = left_g[i]\n",
    "                students[k] = left_s[i]\n",
    "                i += 1\n",
    "            else:\n",
    "                grades[k] = right_g[j]\n",
    "                students[k] = right_s[j]\n",
    "                j += 1\n",
    "            k += 1\n",
    " \n",
    "        #check if any element was left\n",
    "        while i < len(left_g):\n",
    "            grades[k] = left_g[i]\n",
    "            students[k] = left_s[i]\n",
    "            i += 1\n",
    "            k += 1\n",
    " \n",
    "        while j < len(right_g):\n",
    "            grades[k] = right_g[j]\n",
    "            students[k] = right_s[j]\n",
    "            j += 1\n",
    "            k += 1"
   ]
  },
  {
   "cell_type": "code",
   "execution_count": 121,
   "id": "ec652151-3eb0-4f82-a1ac-946d5cedb31b",
   "metadata": {},
   "outputs": [],
   "source": [
    "l_grades2=l_grades\n",
    "l_students2=l_students"
   ]
  },
  {
   "cell_type": "code",
   "execution_count": 122,
   "id": "a75e295a-a24f-456b-8cb4-1af52a0a98af",
   "metadata": {},
   "outputs": [],
   "source": [
    "# get the start time\n",
    "st = time.time()\n",
    "\n",
    "mergeSort(l_grades3,l_students3)\n",
    "\n",
    "# get the end time\n",
    "et = time.time()\n",
    "\n",
    "ex_time_merge_sort= et - st\n"
   ]
  },
  {
   "cell_type": "code",
   "execution_count": 124,
   "id": "a0867ece-e352-4d26-90a3-64a516c851e6",
   "metadata": {},
   "outputs": [
    {
     "data": {
      "text/plain": [
       "[(24.49, 'Emily Crispin'),\n",
       " (24.49, 'Patricia Witten'),\n",
       " (24.45, 'Doreen Richmond'),\n",
       " (24.44, 'David Niederberger'),\n",
       " (24.44, 'Keisha Keene'),\n",
       " (24.44, 'Steven Boston'),\n",
       " (24.42, 'Melody Sanchez'),\n",
       " (24.42, 'Marvin Ramirez'),\n",
       " (24.42, 'John Johnson'),\n",
       " (24.41, 'Ida Mccabe')]"
      ]
     },
     "execution_count": 124,
     "metadata": {},
     "output_type": "execute_result"
    }
   ],
   "source": [
    "list(zip(l_grades2,l_students2))[::-1][:10]"
   ]
  },
  {
   "cell_type": "code",
   "execution_count": 125,
   "id": "ea53d0b2-1ee5-4967-9273-24eae5acf9b3",
   "metadata": {},
   "outputs": [
    {
     "name": "stdout",
     "output_type": "stream",
     "text": [
      "The running time of the Merge Sort Algorithm is  0.26476216316223145\n"
     ]
    }
   ],
   "source": [
    "print('The running time of the Merge Sort Algorithm is ',ex_time_merge_sort)"
   ]
  },
  {
   "cell_type": "markdown",
   "id": "db7d332d-d8ce-4352-8daa-3757d78d81d5",
   "metadata": {
    "tags": []
   },
   "source": [
    "### Quick sort"
   ]
  },
  {
   "cell_type": "code",
   "execution_count": 136,
   "id": "b1c72a9c-ca96-463c-98b4-8b0697ae8daa",
   "metadata": {},
   "outputs": [],
   "source": [
    "l_grades3=l_grades\n",
    "l_students3=l_students\n",
    "\n",
    "# Creating a list with student and their grade\n",
    "stud_grad=list(zip(l_students3,l_grades3))"
   ]
  },
  {
   "cell_type": "code",
   "execution_count": 137,
   "id": "ed6d5140-57a9-4949-a148-4e2f1ebd9077",
   "metadata": {},
   "outputs": [],
   "source": [
    "def par(items, low, high):\n",
    "    \n",
    "    #Choose the rightmost element\n",
    "    pivot1 = items[high][1] # grades\n",
    "    pivot2 = items[high][0] # names\n",
    "    \n",
    "    i = low - 1 # Pointer\n",
    "    for j in range(low, high):\n",
    "        if items[j][1] > pivot1: \n",
    "            i = i + 1 # increasing the pointer\n",
    "            (items[i], items[j]) = (items[j], items[i]) # swap the element at i with element at j\n",
    "        elif items[j][1] == pivot1:\n",
    "            if items[j][0] < pivot2:\n",
    "                i = i + 1 #increasing the pointer\n",
    "                (items[i], items[j]) = (items[j], items[i]) # ...swap the element at i with element at j\n",
    "\n",
    "    # Swap the pivot element with the greater element specified by i\n",
    "    (items[i + 1], items[high]) = (items[high], items[i + 1])\n",
    "  \n",
    "    # Return the position from where partition is done\n",
    "    return i + 1\n",
    "\n",
    "def quickSort(items, low, high):\n",
    "    if low < high:\n",
    "\n",
    "        pi = par(items, low, high)\n",
    "  \n",
    "        quickSort(items, low, pi - 1)  # Recursive call on the left of pivot\n",
    "\n",
    "        quickSort(items, pi + 1, high) # Recursive call on the right of pivot\n",
    "        "
   ]
  },
  {
   "cell_type": "code",
   "execution_count": 138,
   "id": "9c9c44d8-80f9-4931-af16-44b17a745c9d",
   "metadata": {},
   "outputs": [],
   "source": [
    "# get the start time\n",
    "st = time.time()\n",
    "\n",
    "quickSort(stud_grad,0,len(stud_grad)-1)\n",
    "\n",
    "# get the end time\n",
    "et = time.time()\n",
    "\n",
    "ex_time_quick_sort= et - st"
   ]
  },
  {
   "cell_type": "code",
   "execution_count": 140,
   "id": "b681cd28-f2a0-4e07-a4ce-994d42b98a2d",
   "metadata": {},
   "outputs": [
    {
     "data": {
      "text/plain": [
       "[('Emily Crispin', 24.49),\n",
       " ('Patricia Witten', 24.49),\n",
       " ('Doreen Richmond', 24.45),\n",
       " ('David Niederberger', 24.44),\n",
       " ('Keisha Keene', 24.44),\n",
       " ('Steven Boston', 24.44),\n",
       " ('John Johnson', 24.42),\n",
       " ('Marvin Ramirez', 24.42),\n",
       " ('Melody Sanchez', 24.42),\n",
       " ('Edith Lehtonen', 24.41)]"
      ]
     },
     "execution_count": 140,
     "metadata": {},
     "output_type": "execute_result"
    }
   ],
   "source": [
    "stud_grad[:10]"
   ]
  },
  {
   "cell_type": "code",
   "execution_count": 114,
   "id": "a82e2603-d7ca-47c8-b831-0608b361d983",
   "metadata": {},
   "outputs": [
    {
     "name": "stdout",
     "output_type": "stream",
     "text": [
      "The running time of the Quick Sort Algorithm is  2.7329940795898438\n"
     ]
    }
   ],
   "source": [
    "print('The running time of the Quick Sort Algorithm is ',ex_time_quick_sort)"
   ]
  },
  {
   "cell_type": "markdown",
   "id": "5f14805e-9cf5-4700-811f-abb444deb70f",
   "metadata": {
    "tags": []
   },
   "source": [
    "## 2. What is the time complexity of each algorithm you have used?"
   ]
  },
  {
   "cell_type": "markdown",
   "id": "0b1247ba-e83b-4ff4-8237-caba60a51c08",
   "metadata": {},
   "source": [
    "The **Bubble Sort Algorithm** has the fastest best case complexity of $O(N)$ if the array is already sorted. In the worst case scenario we have got both the internal and external loop are going to iterate times each, for a total time complexity of $O$($n^2$).\n",
    "\n",
    "The **Merge Sort Algorithm** has the same complexity for best, average and worst case, which is always $O(nlog(n)$. *LEO CONTROLLA SE GIUSTO*\n",
    "\n",
    "The **Quick Sort Algorithm** has a complexity of $O(n^2)$. \n",
    "In the best case, **partition** is divided evenly every time, which means a complexity of $O(nlog(n))$. *LEO CONTROLLA SE GIUSTO*\n"
   ]
  },
  {
   "cell_type": "markdown",
   "id": "cdce2e24-29fe-44d1-a09f-a06e129dd2c0",
   "metadata": {
    "tags": []
   },
   "source": [
    "## 3. Evaluate the time taken for each of your implementations to answer the query stored in the ApplicantsInfo.txt file and visualize them."
   ]
  },
  {
   "cell_type": "code",
   "execution_count": 133,
   "id": "1b7bd826-87d4-4ca1-8b42-63982261388a",
   "metadata": {},
   "outputs": [
    {
     "data": {
      "image/png": "[encoded data removed]",
      "text/plain": [
       "<Figure size 432x288 with 1 Axes>"
      ]
     },
     "metadata": {
      "needs_background": "light"
     },
     "output_type": "display_data"
    }
   ],
   "source": [
    "# creating the bar plot\n",
    "\n",
    "algorithms = ['Bubble Sort', 'Merge Sort', 'Quick Sort']\n",
    "times = [ex_time_bubble_sort, ex_time_merge_sort, ex_time_quick_sort]\n",
    "\n",
    "plt.bar(algorithms,times, color ='darkgreen',\n",
    "        width = 0.4)\n",
    " \n",
    "\n",
    "plt.ylabel(\"Running Time\")\n",
    "plt.show()"
   ]
  },
  {
   "cell_type": "markdown",
   "id": "54ffef49-35f7-47c7-8068-458f08d68967",
   "metadata": {},
   "source": [
    "Let's focus on Merge Sort and Quick Sort, because as we can see the Bubble Sort is not efficient."
   ]
  },
  {
   "cell_type": "code",
   "execution_count": 132,
   "id": "426fbff8-e537-4698-a62c-8aa12d635e07",
   "metadata": {},
   "outputs": [
    {
     "data": {
      "image/png": "[encoded data removed]",
      "text/plain": [
       "<Figure size 432x288 with 1 Axes>"
      ]
     },
     "metadata": {
      "needs_background": "light"
     },
     "output_type": "display_data"
    }
   ],
   "source": [
    "algorithms = ['Merge Sort', 'Quick Sort']\n",
    "times = [ex_time_merge_sort, ex_time_quick_sort]\n",
    "\n",
    "plt.bar(algorithms,times, color ='darkgreen',\n",
    "        width = 0.4)\n",
    " \n",
    "\n",
    "plt.ylabel(\"Running Time\")\n",
    "plt.show()"
   ]
  },
  {
   "cell_type": "markdown",
   "id": "17fa495e-62e2-4477-b8df-83b4d2f9b1a7",
   "metadata": {
    "tags": []
   },
   "source": [
    "## 4. What is the most optimal algorithm, in your opinion, and why?"
   ]
  },
  {
   "cell_type": "markdown",
   "id": "ef0a7943-a173-4835-9bd5-e70f9da65162",
   "metadata": {},
   "source": [
    "The most optimal algorithm is **Merge Sort**, due to its low running time. Quick Sort is still a good alternative, definitely better than the Bubble Sort."
   ]
  },
  {
   "cell_type": "markdown",
   "id": "22aa4130-302b-4488-8e89-b8256f46e362",
   "metadata": {
    "tags": []
   },
   "source": [
    "## 5.Implement a sorting algorithm using MapReduce and compare it against the three algorithms previously implemented using the ApplicantsInfo.txt file."
   ]
  },
  {
   "cell_type": "code",
   "execution_count": 155,
   "id": "562c9299-69ef-4c6e-a7c2-759890cc1c83",
   "metadata": {},
   "outputs": [
    {
     "data": {
      "image/jpeg": "[encoded data removed]",
      "text/plain": [
       "<IPython.core.display.Image object>"
      ]
     },
     "execution_count": 155,
     "metadata": {},
     "output_type": "execute_result"
    }
   ],
   "source": [
    "from IPython.display import Image\n",
    "Image(filename='/Users/the_redd_/Downloads/canzone.jpeg') \n"
   ]
  },
  {
   "cell_type": "markdown",
   "id": "e89eb802-15c1-4b53-8372-a2e4c0ee142e",
   "metadata": {
    "jp-MarkdownHeadingCollapsed": true,
    "tags": []
   },
   "source": [
    "## Selection sort (bozza)"
   ]
  },
  {
   "cell_type": "code",
   "execution_count": 71,
   "id": "b5ddf383-b366-4827-bc67-c97134154ff0",
   "metadata": {},
   "outputs": [],
   "source": [
    "def SelectionSort(stud_grad):   \n",
    "    l = len(stud_grad)\n",
    "    for step in range(l):\n",
    "        min_idx = step \n",
    "        for i in range(step+1, l):\n",
    "            if stud_grad[i][1]> stud_grad[min_idx][1]:\n",
    "                min_idx =i \n",
    "            if(stud_grad[i][1]== stud_grad[min_idx][1]):\n",
    "                    if stud_grad[i][0] < stud_grad[min_idx][0]:\n",
    "                        temp = lista2[i]\n",
    "                        stud_grad[i] = stud_grad[min_idx]\n",
    "                        stud_grad[min_idx] = temp\n",
    "        (stud_grad[step], stud_grad[min_idx]) = (stud_grad[min_idx], stud_grad[step])\n",
    "    stud_grad[::-1]"
   ]
  },
  {
   "cell_type": "code",
   "execution_count": 108,
   "id": "505df0a0-a9dd-4f14-88c8-9ac1ab72ecf7",
   "metadata": {},
   "outputs": [],
   "source": [
    "# Creating a list with student and their grade\n",
    "stud_grad=list(zip(l_students2,l_grades2))"
   ]
  },
  {
   "cell_type": "code",
   "execution_count": 76,
   "id": "21686e0a-0639-4686-8b24-f0474290e419",
   "metadata": {},
   "outputs": [],
   "source": [
    "# get the start time\n",
    "st = time.time()\n",
    "\n",
    "SelectionSort(stud_grad)\n",
    "\n",
    "# get the end time\n",
    "et = time.time()\n",
    "\n",
    "ex_time_selection_sort= et - st"
   ]
  },
  {
   "cell_type": "code",
   "execution_count": 74,
   "id": "40554a6b-7026-42ca-add4-344d656d506f",
   "metadata": {
    "tags": []
   },
   "outputs": [
    {
     "data": {
      "text/plain": [
       "[('Mary Thompson', 23.51),\n",
       " ('Patricia Witten', 24.49),\n",
       " ('Doreen Richmond', 24.45),\n",
       " ('Steven Boston', 24.44),\n",
       " ('Steven Boston', 24.44),\n",
       " ('John Johnson', 24.42),\n",
       " ('Anna Martin', 23.55),\n",
       " ('Anna Martin', 23.55),\n",
       " ('Melody Sanchez', 24.42),\n",
       " ('Anna Martin', 23.55),\n",
       " ('Anna Martin', 23.55),\n",
       " ('Joshua Reece', 24.41),\n",
       " ('Anna Martin', 23.55),\n",
       " ('Anna Martin', 23.55),\n",
       " ('Manuel Sullinger', 24.41),\n",
       " ('Nathan Berenguer', 23.59),\n",
       " ('Andrew Ovellette', 23.6),\n",
       " ('Catherine Fulop', 23.58),\n",
       " ('Violet Paulino', 24.4),\n",
       " ('Violet Paulino', 24.4),\n",
       " ('Violet Paulino', 24.4),\n",
       " ('Catherine Fulop', 23.58),\n",
       " ('Catherine Fulop', 23.58),\n",
       " ('Marie Wall', 24.39),\n",
       " ('Latoya Stemp', 24.39),\n",
       " ('Marie Wall', 24.39),\n",
       " ('Lisa Lollar', 23.62),\n",
       " ('Richard Parker', 24.39),\n",
       " ('Richard Parker', 24.39),\n",
       " ('Lisa Lollar', 23.62)]"
      ]
     },
     "execution_count": 74,
     "metadata": {},
     "output_type": "execute_result"
    }
   ],
   "source": [
    "stud_grad[:30]"
   ]
  },
  {
   "cell_type": "code",
   "execution_count": 78,
   "id": "9d5fa6d0-4d41-482e-9ef9-23ddc8f5ae94",
   "metadata": {},
   "outputs": [
    {
     "name": "stdout",
     "output_type": "stream",
     "text": [
      "The running time of the Selection Sort Algorithm is  269.62116026878357\n"
     ]
    }
   ],
   "source": [
    "print('The running time of the Selection Sort Algorithm is ',ex_time_selection_sort)"
   ]
  },
  {
   "cell_type": "markdown",
   "id": "08eacc70-41de-4d00-aa8f-5f0e3ca4912b",
   "metadata": {},
   "source": [
    "The **Selection sort** has the same complexity for best, average and worst case, which is always $O(N^2)$.\n",
    "The **best case** is when the array is already sorted.\n",
    "The **worst case** is when the array is already sorted (with a swap) but the smallest element is the last element.\n",
    "\n",
    "*LEO CONTROLLA SE GIUSTO*"
   ]
  },
  {
   "cell_type": "code",
   "execution_count": null,
   "id": "303468be-a71a-43d2-90e7-2202dfaa1664",
   "metadata": {},
   "outputs": [],
   "source": []
  }
 ],
 "metadata": {
  "kernelspec": {
   "display_name": "Python 3 (ipykernel)",
   "language": "python",
   "name": "python3"
  },
  "language_info": {
   "codemirror_mode": {
    "name": "ipython",
    "version": 3
   },
   "file_extension": ".py",
   "mimetype": "text/x-python",
   "name": "python",
   "nbconvert_exporter": "python",
   "pygments_lexer": "ipython3",
   "version": "3.9.7"
  }
 },
 "nbformat": 4,
 "nbformat_minor": 5
}
